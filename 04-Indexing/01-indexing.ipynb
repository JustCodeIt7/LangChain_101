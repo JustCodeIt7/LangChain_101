{
 "cells": [
  {
   "cell_type": "markdown",
   "id": "e4955a91-03f3-4dac-8d0a-a459ec6b7980",
   "metadata": {},
   "source": [
    "# Chroma Index Demo\n",
    "Convert the script into a Jupyter Notebook."
   ]
  },
  {
   "cell_type": "code",
   "execution_count": null,
   "id": "78ac4df9-164d-48bf-a2c8-2da94168efa2",
   "metadata": {},
   "outputs": [],
   "source": [
    "from langchain.indexes import SQLRecordManager, index\n",
    "from langchain_core.documents import Document\n",
    "from langchain_ollama import OllamaEmbeddings\n",
    "from langchain_chroma import Chroma\n",
    "from rich import print\n",
    "collection_name = \"test_index\"\n",
    "embedding = OllamaEmbeddings(model=\"snowflake-arctic-embed:33m\")\n",
    "vectorstore = Chroma(collection_name=collection_name, embedding_function=embedding)"
   ]
  },
  {
   "cell_type": "markdown",
   "id": "19068db3-580b-454b-b58d-9ec1ddc13bd0",
   "metadata": {},
   "source": [
    "### Step 2: Initialize a record manager\n",
    "- The SQLRecordManager keeps track of document writes into the vector store.\n",
    "- The namespace uniquely identifies the record manager for this vector store.\n",
    "- The record manager uses a SQLite database to store metadata and hashes for documents."
   ]
  },
  {
   "cell_type": "code",
   "execution_count": 10,
   "id": "276efc97-6800-4417-8bdd-0dfdce10ca20",
   "metadata": {},
   "outputs": [],
   "source": [
    "namespace = f\"chroma/{collection_name}\"\n",
    "record_manager = SQLRecordManager(namespace, db_url=\"sqlite:///record_manager_cache.sql\")"
   ]
  },
  {
   "cell_type": "markdown",
   "id": "c9b0f568-2865-4631-bacd-6e9a75693c53",
   "metadata": {},
   "source": [
    "### Step 3: Create schema for the record manager\n",
    "- The schema is required to store document metadata and hashes in the SQLite database.\n",
    "- This step ensures the record manager is ready to track document writes."
   ]
  },
  {
   "cell_type": "code",
   "execution_count": 11,
   "id": "5da32c09-6deb-46e9-a59e-bec04f7e8049",
   "metadata": {},
   "outputs": [],
   "source": [
    "record_manager.create_schema()"
   ]
  },
  {
   "cell_type": "markdown",
   "id": "3dc16083-9067-4dd1-b451-9d731f5cfb8a",
   "metadata": {},
   "source": [
    "### Step 4: Define some test documents\n",
    "Notes:\n",
    "- Each document has `page_content` (the text content) and `metadata` (e.g., source information).\n",
    "- The `source` metadata is crucial for tracking the origin of documents and enabling cleanup modes."
   ]
  },
  {
   "cell_type": "code",
   "execution_count": 12,
   "id": "dc3af60b-a29f-4d11-a9f4-aaed900d7239",
   "metadata": {},
   "outputs": [],
   "source": [
    "doc1 = Document(page_content=\"kitty\", metadata={\"source\": \"kitty.txt\"})\n",
    "doc2 = Document(page_content=\"doggy\", metadata={\"source\": \"doggy.txt\"})"
   ]
  },
  {
   "cell_type": "markdown",
   "id": "30d9a1f3-a7b2-4e09-8899-7c430d911149",
   "metadata": {},
   "source": [
    "### Step 5: Index documents using the \"None\" deletion mode\n",
    "Notes:\n",
    "- The \"None\" cleanup mode does not delete any existing documents in the vector store.\n",
    "- It ensures that duplicate content is not re-indexed, saving time and resources.\n",
    "- This mode is useful when you want to manually handle cleanup of old content."
   ]
  },
  {
   "cell_type": "code",
   "execution_count": 13,
   "id": "ebe39494-1d22-4f7f-80de-f8a63600528f",
   "metadata": {},
   "outputs": [
    {
     "data": {
      "text/html": [
       "<pre style=\"white-space:pre;overflow-x:auto;line-height:normal;font-family:Menlo,'DejaVu Sans Mono',consolas,'Courier New',monospace\">Indexing with <span style=\"color: #008000; text-decoration-color: #008000\">'None'</span> deletion mode:\n",
       "</pre>\n"
      ],
      "text/plain": [
       "Indexing with \u001b[32m'None'\u001b[0m deletion mode:\n"
      ]
     },
     "metadata": {},
     "output_type": "display_data"
    },
    {
     "data": {
      "text/html": [
       "<pre style=\"white-space:pre;overflow-x:auto;line-height:normal;font-family:Menlo,'DejaVu Sans Mono',consolas,'Courier New',monospace\"><span style=\"font-weight: bold\">{</span><span style=\"color: #008000; text-decoration-color: #008000\">'num_added'</span>: <span style=\"color: #008080; text-decoration-color: #008080; font-weight: bold\">1</span>, <span style=\"color: #008000; text-decoration-color: #008000\">'num_updated'</span>: <span style=\"color: #008080; text-decoration-color: #008080; font-weight: bold\">0</span>, <span style=\"color: #008000; text-decoration-color: #008000\">'num_skipped'</span>: <span style=\"color: #008080; text-decoration-color: #008080; font-weight: bold\">1</span>, <span style=\"color: #008000; text-decoration-color: #008000\">'num_deleted'</span>: <span style=\"color: #008080; text-decoration-color: #008080; font-weight: bold\">0</span><span style=\"font-weight: bold\">}</span>\n",
       "</pre>\n"
      ],
      "text/plain": [
       "\u001b[1m{\u001b[0m\u001b[32m'num_added'\u001b[0m: \u001b[1;36m1\u001b[0m, \u001b[32m'num_updated'\u001b[0m: \u001b[1;36m0\u001b[0m, \u001b[32m'num_skipped'\u001b[0m: \u001b[1;36m1\u001b[0m, \u001b[32m'num_deleted'\u001b[0m: \u001b[1;36m0\u001b[0m\u001b[1m}\u001b[0m\n"
      ]
     },
     "metadata": {},
     "output_type": "display_data"
    }
   ],
   "source": [
    "print(\"Indexing with 'None' deletion mode:\")\n",
    "result = index(\n",
    "    [doc1, doc2],\n",
    "    record_manager,\n",
    "    vectorstore,\n",
    "    cleanup=None,\n",
    "    source_id_key=\"source\",\n",
    ")\n",
    "print(result)  "
   ]
  },
  {
   "cell_type": "markdown",
   "id": "97289531-09d9-4688-94c8-91eaacb27aa6",
   "metadata": {},
   "source": [
    "### Step 6: Index documents using the \"incremental\" deletion mode\n",
    "- The \"incremental\" cleanup mode deletes old versions of documents if their content has changed.\n",
    "- It continuously cleans up as new documents are indexed, minimizing the time old versions exist.\n",
    "- This mode is ideal for updating documents while keeping the vector store clean."
   ]
  },
  {
   "cell_type": "code",
   "execution_count": 14,
   "id": "9612a17e-b42e-4996-b3bb-dea4f4bf4967",
   "metadata": {},
   "outputs": [
    {
     "data": {
      "text/html": [
       "<pre style=\"white-space:pre;overflow-x:auto;line-height:normal;font-family:Menlo,'DejaVu Sans Mono',consolas,'Courier New',monospace\">\n",
       "Indexing with <span style=\"color: #008000; text-decoration-color: #008000\">'incremental'</span> deletion mode:\n",
       "</pre>\n"
      ],
      "text/plain": [
       "\n",
       "Indexing with \u001b[32m'incremental'\u001b[0m deletion mode:\n"
      ]
     },
     "metadata": {},
     "output_type": "display_data"
    },
    {
     "data": {
      "text/html": [
       "<pre style=\"white-space:pre;overflow-x:auto;line-height:normal;font-family:Menlo,'DejaVu Sans Mono',consolas,'Courier New',monospace\"><span style=\"font-weight: bold\">{</span><span style=\"color: #008000; text-decoration-color: #008000\">'num_added'</span>: <span style=\"color: #008080; text-decoration-color: #008080; font-weight: bold\">0</span>, <span style=\"color: #008000; text-decoration-color: #008000\">'num_updated'</span>: <span style=\"color: #008080; text-decoration-color: #008080; font-weight: bold\">0</span>, <span style=\"color: #008000; text-decoration-color: #008000\">'num_skipped'</span>: <span style=\"color: #008080; text-decoration-color: #008080; font-weight: bold\">2</span>, <span style=\"color: #008000; text-decoration-color: #008000\">'num_deleted'</span>: <span style=\"color: #008080; text-decoration-color: #008080; font-weight: bold\">1</span><span style=\"font-weight: bold\">}</span>\n",
       "</pre>\n"
      ],
      "text/plain": [
       "\u001b[1m{\u001b[0m\u001b[32m'num_added'\u001b[0m: \u001b[1;36m0\u001b[0m, \u001b[32m'num_updated'\u001b[0m: \u001b[1;36m0\u001b[0m, \u001b[32m'num_skipped'\u001b[0m: \u001b[1;36m2\u001b[0m, \u001b[32m'num_deleted'\u001b[0m: \u001b[1;36m1\u001b[0m\u001b[1m}\u001b[0m\n"
      ]
     },
     "metadata": {},
     "output_type": "display_data"
    }
   ],
   "source": [
    "print(\"\\nIndexing with 'incremental' deletion mode:\")\n",
    "result = index(\n",
    "    [doc1, doc2],\n",
    "    record_manager,\n",
    "    vectorstore,\n",
    "    cleanup=\"incremental\",\n",
    "    source_id_key=\"source\",\n",
    ")\n",
    "\n",
    "print(result)"
   ]
  },
  {
   "cell_type": "markdown",
   "id": "f399f7b4-5084-4086-85a6-e7ba84717812",
   "metadata": {},
   "source": [
    "### Step 7: Mutate a document and re-index using \"incremental\" mode\n",
    "- When a document's content changes, the new version is indexed, and the old version is deleted.\n",
    "- This ensures that the vector store always contains the latest version of each document."
   ]
  },
  {
   "cell_type": "code",
   "execution_count": 15,
   "id": "ca5bff84-4c4b-48a3-a7a6-8128b77a7753",
   "metadata": {},
   "outputs": [
    {
     "data": {
      "text/html": [
       "<pre style=\"white-space:pre;overflow-x:auto;line-height:normal;font-family:Menlo,'DejaVu Sans Mono',consolas,'Courier New',monospace\">\n",
       "Re-indexing mutated document with <span style=\"color: #008000; text-decoration-color: #008000\">'incremental'</span> deletion mode:\n",
       "</pre>\n"
      ],
      "text/plain": [
       "\n",
       "Re-indexing mutated document with \u001b[32m'incremental'\u001b[0m deletion mode:\n"
      ]
     },
     "metadata": {},
     "output_type": "display_data"
    },
    {
     "data": {
      "text/html": [
       "<pre style=\"white-space:pre;overflow-x:auto;line-height:normal;font-family:Menlo,'DejaVu Sans Mono',consolas,'Courier New',monospace\"><span style=\"font-weight: bold\">{</span><span style=\"color: #008000; text-decoration-color: #008000\">'num_added'</span>: <span style=\"color: #008080; text-decoration-color: #008080; font-weight: bold\">1</span>, <span style=\"color: #008000; text-decoration-color: #008000\">'num_updated'</span>: <span style=\"color: #008080; text-decoration-color: #008080; font-weight: bold\">0</span>, <span style=\"color: #008000; text-decoration-color: #008000\">'num_skipped'</span>: <span style=\"color: #008080; text-decoration-color: #008080; font-weight: bold\">0</span>, <span style=\"color: #008000; text-decoration-color: #008000\">'num_deleted'</span>: <span style=\"color: #008080; text-decoration-color: #008080; font-weight: bold\">1</span><span style=\"font-weight: bold\">}</span>\n",
       "</pre>\n"
      ],
      "text/plain": [
       "\u001b[1m{\u001b[0m\u001b[32m'num_added'\u001b[0m: \u001b[1;36m1\u001b[0m, \u001b[32m'num_updated'\u001b[0m: \u001b[1;36m0\u001b[0m, \u001b[32m'num_skipped'\u001b[0m: \u001b[1;36m0\u001b[0m, \u001b[32m'num_deleted'\u001b[0m: \u001b[1;36m1\u001b[0m\u001b[1m}\u001b[0m\n"
      ]
     },
     "metadata": {},
     "output_type": "display_data"
    }
   ],
   "source": [
    "changed_doc2 = Document(page_content=\"puppy\", metadata={\"source\": \"doggy.txt\"})\n",
    "print(\"\\nRe-indexing mutated document with 'incremental' deletion mode:\")\n",
    "result = index(\n",
    "    [changed_doc2],\n",
    "    record_manager,\n",
    "    vectorstore,\n",
    "    cleanup=\"incremental\",\n",
    "    source_id_key=\"source\",\n",
    ")\n",
    "print(result)  # Output: {'num_added': 1, 'num_updated': 0, 'num_skipped': 0, 'num_deleted': 1}"
   ]
  },
  {
   "cell_type": "markdown",
   "id": "21d9371b-4c3a-484c-8b7a-18bdcabe41e0",
   "metadata": {},
   "source": [
    "### Step 8: Perform a similarity search\n",
    "- The similarity search retrieves documents most similar to the query based on embeddings.\n",
    "- The `k` parameter specifies the number of results to return.\n",
    "- This demonstrates how indexed documents can be retrieved for a given query."
   ]
  },
  {
   "cell_type": "code",
   "execution_count": 16,
   "id": "e954ba60-6dee-4539-8773-3518ed1c49de",
   "metadata": {},
   "outputs": [
    {
     "data": {
      "text/html": [
       "<pre style=\"white-space:pre;overflow-x:auto;line-height:normal;font-family:Menlo,'DejaVu Sans Mono',consolas,'Courier New',monospace\">\n",
       "Performing similarity search:\n",
       "</pre>\n"
      ],
      "text/plain": [
       "\n",
       "Performing similarity search:\n"
      ]
     },
     "metadata": {},
     "output_type": "display_data"
    },
    {
     "name": "stderr",
     "output_type": "stream",
     "text": [
      "Number of requested results 5 is greater than number of elements in index 1, updating n_results = 1\n"
     ]
    },
    {
     "data": {
      "text/html": [
       "<pre style=\"white-space:pre;overflow-x:auto;line-height:normal;font-family:Menlo,'DejaVu Sans Mono',consolas,'Courier New',monospace\"><span style=\"color: #800080; text-decoration-color: #800080; font-weight: bold\">Document</span><span style=\"font-weight: bold\">(</span><span style=\"color: #808000; text-decoration-color: #808000\">id</span>=<span style=\"color: #008000; text-decoration-color: #008000\">'349f79be-f06a-55ad-bf33-0371efb0b054'</span>, <span style=\"color: #808000; text-decoration-color: #808000\">metadata</span>=<span style=\"font-weight: bold\">{</span><span style=\"color: #008000; text-decoration-color: #008000\">'source'</span>: <span style=\"color: #008000; text-decoration-color: #008000\">'doggy.txt'</span><span style=\"font-weight: bold\">}</span>, <span style=\"color: #808000; text-decoration-color: #808000\">page_content</span>=<span style=\"color: #008000; text-decoration-color: #008000\">'puppy'</span><span style=\"font-weight: bold\">)</span>\n",
       "</pre>\n"
      ],
      "text/plain": [
       "\u001b[1;35mDocument\u001b[0m\u001b[1m(\u001b[0m\u001b[33mid\u001b[0m=\u001b[32m'349f79be-f06a-55ad-bf33-0371efb0b054'\u001b[0m, \u001b[33mmetadata\u001b[0m=\u001b[1m{\u001b[0m\u001b[32m'source'\u001b[0m: \u001b[32m'doggy.txt'\u001b[0m\u001b[1m}\u001b[0m, \u001b[33mpage_content\u001b[0m=\u001b[32m'puppy'\u001b[0m\u001b[1m)\u001b[0m\n"
      ]
     },
     "metadata": {},
     "output_type": "display_data"
    }
   ],
   "source": [
    "print(\"\\nPerforming similarity search:\")\n",
    "search_results = vectorstore.similarity_search(\"dog\", k=5)\n",
    "for doc in search_results:\n",
    "    print(doc)"
   ]
  },
  {
   "cell_type": "code",
   "execution_count": null,
   "metadata": {},
   "outputs": [],
   "source": []
  },
  {
   "cell_type": "code",
   "execution_count": null,
   "metadata": {},
   "outputs": [],
   "source": []
  }
 ],
 "metadata": {
  "kernelspec": {
   "display_name": "llm311",
   "language": "python",
   "name": "python3"
  },
  "language_info": {
   "codemirror_mode": {
    "name": "ipython",
    "version": 3
   },
   "file_extension": ".py",
   "mimetype": "text/x-python",
   "name": "python",
   "nbconvert_exporter": "python",
   "pygments_lexer": "ipython3",
   "version": "3.11.10"
  }
 },
 "nbformat": 4,
 "nbformat_minor": 2
}
