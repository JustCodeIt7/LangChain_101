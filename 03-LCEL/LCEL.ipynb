{
 "cells": [
  {
   "cell_type": "markdown",
   "id": "5e308526",
   "metadata": {},
   "source": [
    "# LangChain Expression Language (LCEL) Tutorial"
   ]
  },
  {
   "cell_type": "code",
   "execution_count": 3,
   "id": "9e819ac4",
   "metadata": {},
   "outputs": [],
   "source": [
    "from typing import Any, Dict, List\n",
    "\n",
    "from dotenv import load_dotenv\n",
    "from langchain_core.output_parsers import StrOutputParser\n",
    "\n",
    "# Import LangChain components\n",
    "from langchain_core.prompts import ChatPromptTemplate\n",
    "from langchain_core.runnables import (\n",
    "    RunnableLambda,\n",
    "    RunnableParallel,\n",
    "    RunnablePassthrough,\n",
    ")\n",
    "from langchain_ollama import ChatOllama\n",
    "from rich import print"
   ]
  },
  {
   "cell_type": "code",
   "execution_count": 4,
   "id": "b6f519c1",
   "metadata": {},
   "outputs": [],
   "source": [
    "# Load environment variables\n",
    "load_dotenv()\n",
    "\n",
    "# Initialize the LLM\n",
    "llm = ChatOllama(model=\"llama3.2\",temperature=0.3)"
   ]
  },
  {
   "cell_type": "markdown",
   "id": "ca1c735a",
   "metadata": {},
   "source": [
    "## SECTION 1: Basic LCEL Chain"
   ]
  },
  {
   "cell_type": "code",
   "execution_count": 5,
   "id": "a30b7ca2",
   "metadata": {},
   "outputs": [
    {
     "data": {
      "text/html": [
       "<pre style=\"white-space:pre;overflow-x:auto;line-height:normal;font-family:Menlo,'DejaVu Sans Mono',consolas,'Courier New',monospace\">-------------------------------------------------- \n",
       " DEMO <span style=\"color: #008080; text-decoration-color: #008080; font-weight: bold\">1</span>: Basic LCEL Chain \n",
       " --------------------------------------------------\n",
       "</pre>\n"
      ],
      "text/plain": [
       "-------------------------------------------------- \n",
       " DEMO \u001b[1;36m1\u001b[0m: Basic LCEL Chain \n",
       " --------------------------------------------------\n"
      ]
     },
     "metadata": {},
     "output_type": "display_data"
    },
    {
     "data": {
      "text/html": [
       "<pre style=\"white-space:pre;overflow-x:auto;line-height:normal;font-family:Menlo,'DejaVu Sans Mono',consolas,'Courier New',monospace\">Prompt: \n",
       "<span style=\"font-weight: bold\">[</span><span style=\"color: #800080; text-decoration-color: #800080; font-weight: bold\">HumanMessage</span><span style=\"font-weight: bold\">(</span><span style=\"color: #808000; text-decoration-color: #808000\">content</span>=<span style=\"color: #008000; text-decoration-color: #008000\">'Tell me a short joke about cats.'</span>, <span style=\"color: #808000; text-decoration-color: #808000\">additional_kwargs</span>=<span style=\"font-weight: bold\">{}</span>, <span style=\"color: #808000; text-decoration-color: #808000\">response_metadata</span>=<span style=\"font-weight: bold\">{})]</span>\n",
       "</pre>\n"
      ],
      "text/plain": [
       "Prompt: \n",
       "\u001b[1m[\u001b[0m\u001b[1;35mHumanMessage\u001b[0m\u001b[1m(\u001b[0m\u001b[33mcontent\u001b[0m=\u001b[32m'Tell me a short joke about cats.'\u001b[0m, \u001b[33madditional_kwargs\u001b[0m=\u001b[1m{\u001b[0m\u001b[1m}\u001b[0m, \u001b[33mresponse_metadata\u001b[0m=\u001b[1m{\u001b[0m\u001b[1m}\u001b[0m\u001b[1m)\u001b[0m\u001b[1m]\u001b[0m\n"
      ]
     },
     "metadata": {},
     "output_type": "display_data"
    },
    {
     "data": {
      "text/html": [
       "<pre style=\"white-space:pre;overflow-x:auto;line-height:normal;font-family:Menlo,'DejaVu Sans Mono',consolas,'Courier New',monospace\">Chain:  Why did the cat join a band?\n",
       "\n",
       "Because it wanted to be the purr-cussionist!\n",
       "</pre>\n"
      ],
      "text/plain": [
       "Chain:  Why did the cat join a band?\n",
       "\n",
       "Because it wanted to be the purr-cussionist!\n"
      ]
     },
     "metadata": {},
     "output_type": "display_data"
    }
   ],
   "source": [
    "print(\"-\" * 50,'\\n',\"DEMO 1: Basic LCEL Chain\",'\\n',\"-\" * 50)\n",
    "\n",
    "# Create a simple prompt template\n",
    "prompt = ChatPromptTemplate.from_template(\"Tell me a short joke about {topic}.\")\n",
    "\n",
    "# Create a basic chain using the | operator (pipe)\n",
    "basic_chain = prompt | llm | StrOutputParser()\n",
    "\n",
    "\n",
    "print(\"Prompt: \", prompt.format_prompt(topic=\"cats\").to_messages())\n",
    "print(\"Chain: \", basic_chain.invoke({\"topic\": \"cats\"}))"
   ]
  },
  {
   "cell_type": "code",
   "execution_count": 6,
   "id": "f0ca3c21",
   "metadata": {},
   "outputs": [
    {
     "data": {
      "text/html": [
       "<pre style=\"white-space:pre;overflow-x:auto;line-height:normal;font-family:Menlo,'DejaVu Sans Mono',consolas,'Courier New',monospace\">Why do programmers prefer dark mode?\n",
       "\n",
       "Because light attracts bugs.\n",
       "</pre>\n"
      ],
      "text/plain": [
       "Why do programmers prefer dark mode?\n",
       "\n",
       "Because light attracts bugs.\n"
      ]
     },
     "metadata": {},
     "output_type": "display_data"
    },
    {
     "data": {
      "text/html": [
       "<pre style=\"white-space:pre;overflow-x:auto;line-height:normal;font-family:Menlo,'DejaVu Sans Mono',consolas,'Courier New',monospace\">\n",
       "\n",
       "</pre>\n"
      ],
      "text/plain": [
       "\n",
       "\n"
      ]
     },
     "metadata": {},
     "output_type": "display_data"
    }
   ],
   "source": [
    "# Run the chain\n",
    "result = basic_chain.invoke({\"topic\": \"programming\"})\n",
    "print(result)\n",
    "print(\"\\n\")"
   ]
  },
  {
   "cell_type": "markdown",
   "id": "58e14221",
   "metadata": {},
   "source": [
    "## SECTION 2: Parallel Processing with LCEL"
   ]
  },
  {
   "cell_type": "code",
   "execution_count": 7,
   "id": "73272e82",
   "metadata": {},
   "outputs": [
    {
     "data": {
      "text/html": [
       "<pre style=\"white-space:pre;overflow-x:auto;line-height:normal;font-family:Menlo,'DejaVu Sans Mono',consolas,'Courier New',monospace\">-------------------------------------------------- \n",
       " DEMO <span style=\"color: #008080; text-decoration-color: #008080; font-weight: bold\">2</span>: Parallel Processing with LCEL \n",
       " --------------------------------------------------\n",
       "</pre>\n"
      ],
      "text/plain": [
       "-------------------------------------------------- \n",
       " DEMO \u001b[1;36m2\u001b[0m: Parallel Processing with LCEL \n",
       " --------------------------------------------------\n"
      ]
     },
     "metadata": {},
     "output_type": "display_data"
    },
    {
     "data": {
      "text/html": [
       "<pre style=\"white-space:pre;overflow-x:auto;line-height:normal;font-family:Menlo,'DejaVu Sans Mono',consolas,'Courier New',monospace\">Prompt: \n",
       "<span style=\"font-weight: bold\">[</span><span style=\"color: #800080; text-decoration-color: #800080; font-weight: bold\">HumanMessage</span><span style=\"font-weight: bold\">(</span><span style=\"color: #808000; text-decoration-color: #808000\">content</span>=<span style=\"color: #008000; text-decoration-color: #008000\">'List 3 pros of AI technology.'</span>, <span style=\"color: #808000; text-decoration-color: #808000\">additional_kwargs</span>=<span style=\"font-weight: bold\">{}</span>, <span style=\"color: #808000; text-decoration-color: #808000\">response_metadata</span>=<span style=\"font-weight: bold\">{})]</span>\n",
       "</pre>\n"
      ],
      "text/plain": [
       "Prompt: \n",
       "\u001b[1m[\u001b[0m\u001b[1;35mHumanMessage\u001b[0m\u001b[1m(\u001b[0m\u001b[33mcontent\u001b[0m=\u001b[32m'List 3 pros of AI technology.'\u001b[0m, \u001b[33madditional_kwargs\u001b[0m=\u001b[1m{\u001b[0m\u001b[1m}\u001b[0m, \u001b[33mresponse_metadata\u001b[0m=\u001b[1m{\u001b[0m\u001b[1m}\u001b[0m\u001b[1m)\u001b[0m\u001b[1m]\u001b[0m\n"
      ]
     },
     "metadata": {},
     "output_type": "display_data"
    },
    {
     "data": {
      "text/html": [
       "<pre style=\"white-space:pre;overflow-x:auto;line-height:normal;font-family:Menlo,'DejaVu Sans Mono',consolas,'Courier New',monospace\">Chain: \n",
       "<span style=\"font-weight: bold\">{</span>\n",
       "    <span style=\"color: #008000; text-decoration-color: #008000\">'pros'</span>: <span style=\"color: #008000; text-decoration-color: #008000\">\"Here are three pros of AI technology:\\n\\n1. **Improved Efficiency**: Artificial intelligence can </span>\n",
       "<span style=\"color: #008000; text-decoration-color: #008000\">automate repetitive and mundane tasks, freeing up human time and energy for more strategic and creative work. This </span>\n",
       "<span style=\"color: #008000; text-decoration-color: #008000\">can lead to increased productivity and efficiency in various industries such as healthcare, finance, and customer </span>\n",
       "<span style=\"color: #008000; text-decoration-color: #008000\">service.\\n\\n2. **Enhanced Decision-Making**: AI algorithms can analyze vast amounts of data quickly and accurately,</span>\n",
       "<span style=\"color: #008000; text-decoration-color: #008000\">providing insights that may not be apparent to humans. This can help organizations make better decisions, predict </span>\n",
       "<span style=\"color: #008000; text-decoration-color: #008000\">trends, and identify opportunities for growth.\\n\\n3. **Personalized Experiences**: AI-powered systems can learn </span>\n",
       "<span style=\"color: #008000; text-decoration-color: #008000\">about individual preferences and behaviors, allowing for personalized experiences in areas such as customer </span>\n",
       "<span style=\"color: #008000; text-decoration-color: #008000\">service, marketing, and education. For example, AI-powered chatbots can offer tailored support to customers, while </span>\n",
       "<span style=\"color: #008000; text-decoration-color: #008000\">AI-driven recommendation engines can suggest products or services based on a user's interests.\\n\\nThese are just a </span>\n",
       "<span style=\"color: #008000; text-decoration-color: #008000\">few examples of the many benefits that AI technology can bring.\"</span>,\n",
       "    <span style=\"color: #008000; text-decoration-color: #008000\">'cons'</span>: <span style=\"color: #008000; text-decoration-color: #008000\">\"Here are three cons of AI technology:\\n\\n1. **Job Displacement**: One of the significant concerns with</span>\n",
       "<span style=\"color: #008000; text-decoration-color: #008000\">AI is its potential to automate jobs, leading to widespread unemployment and displacement of workers. As machines </span>\n",
       "<span style=\"color: #008000; text-decoration-color: #008000\">become more efficient and capable, they may replace human workers in various industries, including manufacturing, </span>\n",
       "<span style=\"color: #008000; text-decoration-color: #008000\">customer service, and other sectors.\\n\\n2. **Bias and Discrimination**: AI systems can perpetuate existing biases </span>\n",
       "<span style=\"color: #008000; text-decoration-color: #008000\">and discriminatory practices if they are trained on biased data or designed with a particular worldview. This can </span>\n",
       "<span style=\"color: #008000; text-decoration-color: #008000\">lead to unfair treatment of certain groups, such as racial minorities, women, or individuals with </span>\n",
       "<span style=\"color: #008000; text-decoration-color: #008000\">disabilities.\\n\\n3. **Loss of Human Touch and Empathy**: Over-reliance on AI technology can lead to a loss of human</span>\n",
       "<span style=\"color: #008000; text-decoration-color: #008000\">touch and empathy in various aspects of life, including customer service, healthcare, and education. While AI can </span>\n",
       "<span style=\"color: #008000; text-decoration-color: #008000\">provide efficient and accurate information, it often lacks the emotional intelligence and compassion that humans </span>\n",
       "<span style=\"color: #008000; text-decoration-color: #008000\">bring to these interactions.\\n\\nThese are just a few examples of the potential downsides of AI technology. However,</span>\n",
       "<span style=\"color: #008000; text-decoration-color: #008000\">it's worth noting that many experts believe that the benefits of AI far outweigh its drawbacks, and that </span>\n",
       "<span style=\"color: #008000; text-decoration-color: #008000\">responsible development and deployment of AI can help mitigate some of its negative consequences.\"</span>\n",
       "<span style=\"font-weight: bold\">}</span>\n",
       "</pre>\n"
      ],
      "text/plain": [
       "Chain: \n",
       "\u001b[1m{\u001b[0m\n",
       "    \u001b[32m'pros'\u001b[0m: \u001b[32m\"Here are three pros of AI technology:\\n\\n1. **Improved Efficiency**: Artificial intelligence can \u001b[0m\n",
       "\u001b[32mautomate repetitive and mundane tasks, freeing up human time and energy for more strategic and creative work. This \u001b[0m\n",
       "\u001b[32mcan lead to increased productivity and efficiency in various industries such as healthcare, finance, and customer \u001b[0m\n",
       "\u001b[32mservice.\\n\\n2. **Enhanced Decision-Making**: AI algorithms can analyze vast amounts of data quickly and accurately,\u001b[0m\n",
       "\u001b[32mproviding insights that may not be apparent to humans. This can help organizations make better decisions, predict \u001b[0m\n",
       "\u001b[32mtrends, and identify opportunities for growth.\\n\\n3. **Personalized Experiences**: AI-powered systems can learn \u001b[0m\n",
       "\u001b[32mabout individual preferences and behaviors, allowing for personalized experiences in areas such as customer \u001b[0m\n",
       "\u001b[32mservice, marketing, and education. For example, AI-powered chatbots can offer tailored support to customers, while \u001b[0m\n",
       "\u001b[32mAI-driven recommendation engines can suggest products or services based on a user's interests.\\n\\nThese are just a \u001b[0m\n",
       "\u001b[32mfew examples of the many benefits that AI technology can bring.\"\u001b[0m,\n",
       "    \u001b[32m'cons'\u001b[0m: \u001b[32m\"Here are three cons of AI technology:\\n\\n1. **Job Displacement**: One of the significant concerns with\u001b[0m\n",
       "\u001b[32mAI is its potential to automate jobs, leading to widespread unemployment and displacement of workers. As machines \u001b[0m\n",
       "\u001b[32mbecome more efficient and capable, they may replace human workers in various industries, including manufacturing, \u001b[0m\n",
       "\u001b[32mcustomer service, and other sectors.\\n\\n2. **Bias and Discrimination**: AI systems can perpetuate existing biases \u001b[0m\n",
       "\u001b[32mand discriminatory practices if they are trained on biased data or designed with a particular worldview. This can \u001b[0m\n",
       "\u001b[32mlead to unfair treatment of certain groups, such as racial minorities, women, or individuals with \u001b[0m\n",
       "\u001b[32mdisabilities.\\n\\n3. **Loss of Human Touch and Empathy**: Over-reliance on AI technology can lead to a loss of human\u001b[0m\n",
       "\u001b[32mtouch and empathy in various aspects of life, including customer service, healthcare, and education. While AI can \u001b[0m\n",
       "\u001b[32mprovide efficient and accurate information, it often lacks the emotional intelligence and compassion that humans \u001b[0m\n",
       "\u001b[32mbring to these interactions.\\n\\nThese are just a few examples of the potential downsides of AI technology. However,\u001b[0m\n",
       "\u001b[32mit's worth noting that many experts believe that the benefits of AI far outweigh its drawbacks, and that \u001b[0m\n",
       "\u001b[32mresponsible development and deployment of AI can help mitigate some of its negative consequences.\"\u001b[0m\n",
       "\u001b[1m}\u001b[0m\n"
      ]
     },
     "metadata": {},
     "output_type": "display_data"
    }
   ],
   "source": [
    "print(\"-\" * 50,'\\n',\"DEMO 2: Parallel Processing with LCEL\",'\\n',\"-\" * 50)\n",
    "\n",
    "# Create two different prompts\n",
    "pros_prompt = ChatPromptTemplate.from_template(\n",
    "    \"List 3 pros of {technology} technology.\"\n",
    ")\n",
    "cons_prompt = ChatPromptTemplate.from_template(\n",
    "    \"List 3 cons of {technology} technology.\"\n",
    ")\n",
    "\n",
    "# Create chains for each prompt\n",
    "pros_chain = pros_prompt | llm | StrOutputParser()\n",
    "cons_chain = cons_prompt | llm | StrOutputParser()\n",
    "\n",
    "# Create a parallel chain\n",
    "parallel_chain = RunnableParallel(pros=pros_chain, cons=cons_chain)\n",
    "\n",
    "print(\"Prompt: \", pros_prompt.format_prompt(technology=\"AI\").to_messages())\n",
    "print(\"Chain: \", parallel_chain.invoke({\"technology\": \"AI\"}))"
   ]
  },
  {
   "cell_type": "code",
   "execution_count": 8,
   "id": "d10310d5",
   "metadata": {},
   "outputs": [
    {
     "data": {
      "text/html": [
       "<pre style=\"white-space:pre;overflow-x:auto;line-height:normal;font-family:Menlo,'DejaVu Sans Mono',consolas,'Courier New',monospace\">PROS:\n",
       "</pre>\n"
      ],
      "text/plain": [
       "PROS:\n"
      ]
     },
     "metadata": {},
     "output_type": "display_data"
    },
    {
     "data": {
      "text/html": [
       "<pre style=\"white-space:pre;overflow-x:auto;line-height:normal;font-family:Menlo,'DejaVu Sans Mono',consolas,'Courier New',monospace\">Here are three pros of blockchain technology:\n",
       "\n",
       "<span style=\"color: #008080; text-decoration-color: #008080; font-weight: bold\">1</span>. **Security and Transparency**: Blockchain technology uses a decentralized, distributed ledger system that \n",
       "records transactions across multiple nodes on a network. This makes it virtually impossible to alter or manipulate \n",
       "data, ensuring the integrity and security of transactions.\n",
       "\n",
       "<span style=\"color: #008080; text-decoration-color: #008080; font-weight: bold\">2</span>. **Immutable Record Keeping**: The use of blockchain technology allows for an immutable record keeping system, \n",
       "where once a transaction is recorded, it cannot be altered or deleted. This provides a permanent and tamper-proof \n",
       "record of all transactions, which can help build trust among participants in a network.\n",
       "\n",
       "<span style=\"color: #008080; text-decoration-color: #008080; font-weight: bold\">3</span>. **Decentralized and Autonomous**: Blockchain technology operates on a decentralized network, meaning that no \n",
       "single entity controls the data or transactions. This allows for greater autonomy and decision-making power to be \n",
       "distributed among participants, rather than being controlled by a central authority.\n",
       "</pre>\n"
      ],
      "text/plain": [
       "Here are three pros of blockchain technology:\n",
       "\n",
       "\u001b[1;36m1\u001b[0m. **Security and Transparency**: Blockchain technology uses a decentralized, distributed ledger system that \n",
       "records transactions across multiple nodes on a network. This makes it virtually impossible to alter or manipulate \n",
       "data, ensuring the integrity and security of transactions.\n",
       "\n",
       "\u001b[1;36m2\u001b[0m. **Immutable Record Keeping**: The use of blockchain technology allows for an immutable record keeping system, \n",
       "where once a transaction is recorded, it cannot be altered or deleted. This provides a permanent and tamper-proof \n",
       "record of all transactions, which can help build trust among participants in a network.\n",
       "\n",
       "\u001b[1;36m3\u001b[0m. **Decentralized and Autonomous**: Blockchain technology operates on a decentralized network, meaning that no \n",
       "single entity controls the data or transactions. This allows for greater autonomy and decision-making power to be \n",
       "distributed among participants, rather than being controlled by a central authority.\n"
      ]
     },
     "metadata": {},
     "output_type": "display_data"
    },
    {
     "data": {
      "text/html": [
       "<pre style=\"white-space:pre;overflow-x:auto;line-height:normal;font-family:Menlo,'DejaVu Sans Mono',consolas,'Courier New',monospace\">\n",
       "CONS:\n",
       "</pre>\n"
      ],
      "text/plain": [
       "\n",
       "CONS:\n"
      ]
     },
     "metadata": {},
     "output_type": "display_data"
    },
    {
     "data": {
      "text/html": [
       "<pre style=\"white-space:pre;overflow-x:auto;line-height:normal;font-family:Menlo,'DejaVu Sans Mono',consolas,'Courier New',monospace\">Here are three cons of blockchain technology:\n",
       "\n",
       "<span style=\"color: #008080; text-decoration-color: #008080; font-weight: bold\">1</span>. **Scalability Limitations**: Blockchain technology is still in its early stages, and many blockchains struggle \n",
       "to scale to meet the demands of widespread adoption. As more users join a network, it can become increasingly \n",
       "difficult for transactions to be processed quickly and efficiently.\n",
       "\n",
       "<span style=\"color: #008080; text-decoration-color: #008080; font-weight: bold\">2</span>. **Energy Consumption**: The process of validating transactions on a blockchain requires significant \n",
       "computational power, which often results in high energy consumption. This has raised concerns about the \n",
       "environmental impact of blockchain technology, particularly with regards to cryptocurrencies like Bitcoin.\n",
       "\n",
       "<span style=\"color: #008080; text-decoration-color: #008080; font-weight: bold\">3</span>. **Regulatory Uncertainty**: Blockchain technology operates outside of traditional regulatory frameworks, which \n",
       "can create uncertainty and confusion for businesses and individuals looking to use it. Different countries have \n",
       "varying laws and regulations regarding blockchain, and it's often unclear what rules apply in different \n",
       "jurisdictions.\n",
       "</pre>\n"
      ],
      "text/plain": [
       "Here are three cons of blockchain technology:\n",
       "\n",
       "\u001b[1;36m1\u001b[0m. **Scalability Limitations**: Blockchain technology is still in its early stages, and many blockchains struggle \n",
       "to scale to meet the demands of widespread adoption. As more users join a network, it can become increasingly \n",
       "difficult for transactions to be processed quickly and efficiently.\n",
       "\n",
       "\u001b[1;36m2\u001b[0m. **Energy Consumption**: The process of validating transactions on a blockchain requires significant \n",
       "computational power, which often results in high energy consumption. This has raised concerns about the \n",
       "environmental impact of blockchain technology, particularly with regards to cryptocurrencies like Bitcoin.\n",
       "\n",
       "\u001b[1;36m3\u001b[0m. **Regulatory Uncertainty**: Blockchain technology operates outside of traditional regulatory frameworks, which \n",
       "can create uncertainty and confusion for businesses and individuals looking to use it. Different countries have \n",
       "varying laws and regulations regarding blockchain, and it's often unclear what rules apply in different \n",
       "jurisdictions.\n"
      ]
     },
     "metadata": {},
     "output_type": "display_data"
    },
    {
     "data": {
      "text/html": [
       "<pre style=\"white-space:pre;overflow-x:auto;line-height:normal;font-family:Menlo,'DejaVu Sans Mono',consolas,'Courier New',monospace\">\n",
       "\n",
       "</pre>\n"
      ],
      "text/plain": [
       "\n",
       "\n"
      ]
     },
     "metadata": {},
     "output_type": "display_data"
    }
   ],
   "source": [
    "\n",
    "# Run the parallel chain\n",
    "parallel_result = parallel_chain.invoke({\"technology\": \"blockchain\"})\n",
    "print(\"PROS:\")\n",
    "print(parallel_result[\"pros\"])\n",
    "print(\"\\nCONS:\")\n",
    "print(parallel_result[\"cons\"])\n",
    "print(\"\\n\")"
   ]
  },
  {
   "cell_type": "markdown",
   "id": "2a7c8ffd",
   "metadata": {},
   "source": [
    "## SECTION 3: Advanced Chain with Data Transformation"
   ]
  },
  {
   "cell_type": "code",
   "execution_count": 9,
   "id": "792963b1",
   "metadata": {},
   "outputs": [
    {
     "data": {
      "text/html": [
       "<pre style=\"white-space:pre;overflow-x:auto;line-height:normal;font-family:Menlo,'DejaVu Sans Mono',consolas,'Courier New',monospace\">-------------------------------------------------- \n",
       " DEMO <span style=\"color: #008080; text-decoration-color: #008080; font-weight: bold\">3</span>: Advanced Chain with Data Transformation \n",
       " --------------------------------------------------\n",
       "</pre>\n"
      ],
      "text/plain": [
       "-------------------------------------------------- \n",
       " DEMO \u001b[1;36m3\u001b[0m: Advanced Chain with Data Transformation \n",
       " --------------------------------------------------\n"
      ]
     },
     "metadata": {},
     "output_type": "display_data"
    },
    {
     "data": {
      "text/html": [
       "<pre style=\"white-space:pre;overflow-x:auto;line-height:normal;font-family:Menlo,'DejaVu Sans Mono',consolas,'Courier New',monospace\">Prompt: \n",
       "<span style=\"font-weight: bold\">[</span>\n",
       "    <span style=\"color: #800080; text-decoration-color: #800080; font-weight: bold\">HumanMessage</span><span style=\"font-weight: bold\">(</span>\n",
       "        <span style=\"color: #808000; text-decoration-color: #808000\">content</span>=<span style=\"color: #008000; text-decoration-color: #008000\">'Answer the following query: EXPLAIN QUANTUM COMPUTING\\n\\n    The query has 3 words.\\n    Provide a</span>\n",
       "<span style=\"color: #008000; text-decoration-color: #008000\">detailed explanation.\\n    '</span>,\n",
       "        <span style=\"color: #808000; text-decoration-color: #808000\">additional_kwargs</span>=<span style=\"font-weight: bold\">{}</span>,\n",
       "        <span style=\"color: #808000; text-decoration-color: #808000\">response_metadata</span>=<span style=\"font-weight: bold\">{}</span>\n",
       "    <span style=\"font-weight: bold\">)</span>\n",
       "<span style=\"font-weight: bold\">]</span>\n",
       "</pre>\n"
      ],
      "text/plain": [
       "Prompt: \n",
       "\u001b[1m[\u001b[0m\n",
       "    \u001b[1;35mHumanMessage\u001b[0m\u001b[1m(\u001b[0m\n",
       "        \u001b[33mcontent\u001b[0m=\u001b[32m'Answer the following query: EXPLAIN QUANTUM COMPUTING\\n\\n    The query has 3 words.\\n    Provide a\u001b[0m\n",
       "\u001b[32mdetailed explanation.\\n    '\u001b[0m,\n",
       "        \u001b[33madditional_kwargs\u001b[0m=\u001b[1m{\u001b[0m\u001b[1m}\u001b[0m,\n",
       "        \u001b[33mresponse_metadata\u001b[0m=\u001b[1m{\u001b[0m\u001b[1m}\u001b[0m\n",
       "    \u001b[1m)\u001b[0m\n",
       "\u001b[1m]\u001b[0m\n"
      ]
     },
     "metadata": {},
     "output_type": "display_data"
    },
    {
     "data": {
      "text/html": [
       "<pre style=\"white-space:pre;overflow-x:auto;line-height:normal;font-family:Menlo,'DejaVu Sans Mono',consolas,'Courier New',monospace\">Chain: \n",
       "<span style=\"font-weight: bold\">{</span>\n",
       "    <span style=\"color: #008000; text-decoration-color: #008000\">'summary'</span>: <span style=\"color: #008000; text-decoration-color: #008000\">\"Quantum Computing is a revolutionary technology that uses the principles of quantum mechanics to </span>\n",
       "<span style=\"color: #008000; text-decoration-color: #008000\">perform calculations and operations on data. It's a field that has gained significant attention in recent years due</span>\n",
       "<span style=\"color: #008000; text-decoration-color: #008000\">to its potential to solve complex problems that are currently unsolvable or require an unfeasible amount of time </span>\n",
       "<span style=\"color: #008000; text-decoration-color: #008000\">using classical computers.\"</span>,\n",
       "    <span style=\"color: #008000; text-decoration-color: #008000\">'details'</span>: <span style=\"font-weight: bold\">[</span>\n",
       "        <span style=\"color: #008000; text-decoration-color: #008000\">''</span>,\n",
       "        <span style=\"color: #008000; text-decoration-color: #008000\">'**What is Quantum Computing?**'</span>,\n",
       "        <span style=\"color: #008000; text-decoration-color: #008000\">''</span>,\n",
       "        <span style=\"color: #008000; text-decoration-color: #008000\">'Classical computers use bits, which can have a value of either 0 or 1. In contrast, quantum computers use </span>\n",
       "<span style=\"color: #008000; text-decoration-color: #008000\">qubits (quantum bits), which can exist in multiple states simultaneously, known as superposition. This property </span>\n",
       "<span style=\"color: #008000; text-decoration-color: #008000\">allows qubits to process multiple possibilities at the same time, making them much faster than classical computers </span>\n",
       "<span style=\"color: #008000; text-decoration-color: #008000\">for certain types of calculations.'</span>,\n",
       "        <span style=\"color: #008000; text-decoration-color: #008000\">''</span>,\n",
       "        <span style=\"color: #008000; text-decoration-color: #008000\">'**Key Principles of Quantum Computing**'</span>,\n",
       "        <span style=\"color: #008000; text-decoration-color: #008000\">''</span>,\n",
       "        <span style=\"color: #008000; text-decoration-color: #008000\">'1. **Superposition**: Qubits can exist in multiple states (0, 1, or both) at the same time.'</span>,\n",
       "        <span style=\"color: #008000; text-decoration-color: #008000\">\"2. **Entanglement**: Qubits can be connected in such a way that their properties are correlated, even if </span>\n",
       "<span style=\"color: #008000; text-decoration-color: #008000\">they're separated by large distances.\"</span>,\n",
       "        <span style=\"color: #008000; text-decoration-color: #008000\">'3. **Quantum Measurement**: When a qubit is measured, its state collapses to one of the possible outcomes </span>\n",
       "<span style=\"color: #008000; text-decoration-color: #008000\">(0 or 1).'</span>,\n",
       "        <span style=\"color: #008000; text-decoration-color: #008000\">'4. **Quantum Interference**: The superposition of qubits can lead to interference patterns, which can be </span>\n",
       "<span style=\"color: #008000; text-decoration-color: #008000\">exploited for quantum computing.'</span>,\n",
       "        <span style=\"color: #008000; text-decoration-color: #008000\">''</span>,\n",
       "        <span style=\"color: #008000; text-decoration-color: #008000\">'**How Does Quantum Computing Work?**'</span>,\n",
       "        <span style=\"color: #008000; text-decoration-color: #008000\">''</span>,\n",
       "        <span style=\"color: #008000; text-decoration-color: #008000\">'A quantum computer consists of several components:'</span>,\n",
       "        <span style=\"color: #008000; text-decoration-color: #008000\">''</span>,\n",
       "        <span style=\"color: #008000; text-decoration-color: #008000\">'1. **Qubits**: These are the basic units of quantum information.'</span>,\n",
       "        <span style=\"color: #008000; text-decoration-color: #008000\">'2. **Quantum Gates**: These are the quantum equivalent of logic gates in classical computers. They perform</span>\n",
       "<span style=\"color: #008000; text-decoration-color: #008000\">operations on qubits, such as rotation and entanglement.'</span>,\n",
       "        <span style=\"color: #008000; text-decoration-color: #008000\">'3. **Quantum Algorithms**: These are the programs that run on a quantum computer. They use quantum </span>\n",
       "<span style=\"color: #008000; text-decoration-color: #008000\">mechanics to solve specific problems.'</span>,\n",
       "        <span style=\"color: #008000; text-decoration-color: #008000\">''</span>,\n",
       "        <span style=\"color: #008000; text-decoration-color: #008000\">'**Types of Quantum Computing**'</span>,\n",
       "        <span style=\"color: #008000; text-decoration-color: #008000\">''</span>,\n",
       "        <span style=\"color: #008000; text-decoration-color: #008000\">'1. **Gate-Based Quantum Computing**: This is the most common type, where quantum gates are used to </span>\n",
       "<span style=\"color: #008000; text-decoration-color: #008000\">manipulate qubits.'</span>,\n",
       "        <span style=\"color: #008000; text-decoration-color: #008000\">'2. **Analog Quantum Computing**: This approach uses continuous-variable quantum systems, such as </span>\n",
       "<span style=\"color: #008000; text-decoration-color: #008000\">superconducting circuits or optical systems.'</span>,\n",
       "        <span style=\"color: #008000; text-decoration-color: #008000\">'3. **Topological Quantum Computing**: This method uses exotic materials called topological insulators to </span>\n",
       "<span style=\"color: #008000; text-decoration-color: #008000\">create a robust and fault-tolerant quantum computer.'</span>,\n",
       "        <span style=\"color: #008000; text-decoration-color: #008000\">''</span>,\n",
       "        <span style=\"color: #008000; text-decoration-color: #008000\">'**Applications of Quantum Computing**'</span>,\n",
       "        <span style=\"color: #008000; text-decoration-color: #008000\">''</span>,\n",
       "        <span style=\"color: #008000; text-decoration-color: #008000\">'1. **Cryptography**: Quantum computers can break certain classical encryption algorithms, but they also </span>\n",
       "<span style=\"color: #008000; text-decoration-color: #008000\">enable new, quantum-resistant cryptography methods.'</span>,\n",
       "        <span style=\"color: #008000; text-decoration-color: #008000\">'2. **Optimization**: Quantum computers can solve complex optimization problems much faster than classical </span>\n",
       "<span style=\"color: #008000; text-decoration-color: #008000\">computers.'</span>,\n",
       "        <span style=\"color: #008000; text-decoration-color: #008000\">'3. **Simulation**: Quantum computers can simulate complex systems, such as molecules and chemical </span>\n",
       "<span style=\"color: #008000; text-decoration-color: #008000\">reactions, which could lead to breakthroughs in fields like chemistry and materials science.'</span>,\n",
       "        <span style=\"color: #008000; text-decoration-color: #008000\">'4. **Machine Learning**: Quantum computers can speed up certain machine learning algorithms, leading to </span>\n",
       "<span style=\"color: #008000; text-decoration-color: #008000\">potential improvements in areas like image recognition and natural language processing.'</span>,\n",
       "        <span style=\"color: #008000; text-decoration-color: #008000\">''</span>,\n",
       "        <span style=\"color: #008000; text-decoration-color: #008000\">'**Challenges and Limitations**'</span>,\n",
       "        <span style=\"color: #008000; text-decoration-color: #008000\">''</span>,\n",
       "        <span style=\"color: #008000; text-decoration-color: #008000\">'1. **Error Correction**: Quantum computers are prone to errors due to the fragile nature of qubits. </span>\n",
       "<span style=\"color: #008000; text-decoration-color: #008000\">Developing robust error correction techniques is essential.'</span>,\n",
       "        <span style=\"color: #008000; text-decoration-color: #008000\">'2. **Scalability**: Currently, most quantum computers are small-scale and need to be scaled up to perform </span>\n",
       "<span style=\"color: #008000; text-decoration-color: #008000\">practical calculations.'</span>,\n",
       "        <span style=\"color: #008000; text-decoration-color: #008000\">'3. **Quantum Noise**: Quantum systems are sensitive to noise, which can cause errors in computations.'</span>,\n",
       "        <span style=\"color: #008000; text-decoration-color: #008000\">''</span>,\n",
       "        <span style=\"color: #008000; text-decoration-color: #008000\">'**Conclusion**'</span>,\n",
       "        <span style=\"color: #008000; text-decoration-color: #008000\">''</span>,\n",
       "        <span style=\"color: #008000; text-decoration-color: #008000\">'Quantum Computing has the potential to revolutionize various fields by solving complex problems that are </span>\n",
       "<span style=\"color: #008000; text-decoration-color: #008000\">currently unsolvable or require an unfeasible amount of time using classical computers. While significant </span>\n",
       "<span style=\"color: #008000; text-decoration-color: #008000\">challenges and limitations remain, researchers continue to advance the field, and its applications are expected to </span>\n",
       "<span style=\"color: #008000; text-decoration-color: #008000\">grow exponentially in the coming years.'</span>\n",
       "    <span style=\"font-weight: bold\">]</span>,\n",
       "    <span style=\"color: #008000; text-decoration-color: #008000\">'response_length'</span>: <span style=\"color: #008080; text-decoration-color: #008080; font-weight: bold\">3696</span>\n",
       "<span style=\"font-weight: bold\">}</span>\n",
       "</pre>\n"
      ],
      "text/plain": [
       "Chain: \n",
       "\u001b[1m{\u001b[0m\n",
       "    \u001b[32m'summary'\u001b[0m: \u001b[32m\"Quantum Computing is a revolutionary technology that uses the principles of quantum mechanics to \u001b[0m\n",
       "\u001b[32mperform calculations and operations on data. It's a field that has gained significant attention in recent years due\u001b[0m\n",
       "\u001b[32mto its potential to solve complex problems that are currently unsolvable or require an unfeasible amount of time \u001b[0m\n",
       "\u001b[32musing classical computers.\"\u001b[0m,\n",
       "    \u001b[32m'details'\u001b[0m: \u001b[1m[\u001b[0m\n",
       "        \u001b[32m''\u001b[0m,\n",
       "        \u001b[32m'**What is Quantum Computing?**'\u001b[0m,\n",
       "        \u001b[32m''\u001b[0m,\n",
       "        \u001b[32m'Classical computers use bits, which can have a value of either 0 or 1. In contrast, quantum computers use \u001b[0m\n",
       "\u001b[32mqubits \u001b[0m\u001b[32m(\u001b[0m\u001b[32mquantum bits\u001b[0m\u001b[32m)\u001b[0m\u001b[32m, which can exist in multiple states simultaneously, known as superposition. This property \u001b[0m\n",
       "\u001b[32mallows qubits to process multiple possibilities at the same time, making them much faster than classical computers \u001b[0m\n",
       "\u001b[32mfor certain types of calculations.'\u001b[0m,\n",
       "        \u001b[32m''\u001b[0m,\n",
       "        \u001b[32m'**Key Principles of Quantum Computing**'\u001b[0m,\n",
       "        \u001b[32m''\u001b[0m,\n",
       "        \u001b[32m'1. **Superposition**: Qubits can exist in multiple states \u001b[0m\u001b[32m(\u001b[0m\u001b[32m0, 1, or both\u001b[0m\u001b[32m)\u001b[0m\u001b[32m at the same time.'\u001b[0m,\n",
       "        \u001b[32m\"2. **Entanglement**: Qubits can be connected in such a way that their properties are correlated, even if \u001b[0m\n",
       "\u001b[32mthey're separated by large distances.\"\u001b[0m,\n",
       "        \u001b[32m'3. **Quantum Measurement**: When a qubit is measured, its state collapses to one of the possible outcomes \u001b[0m\n",
       "\u001b[32m(\u001b[0m\u001b[32m0 or 1\u001b[0m\u001b[32m)\u001b[0m\u001b[32m.'\u001b[0m,\n",
       "        \u001b[32m'4. **Quantum Interference**: The superposition of qubits can lead to interference patterns, which can be \u001b[0m\n",
       "\u001b[32mexploited for quantum computing.'\u001b[0m,\n",
       "        \u001b[32m''\u001b[0m,\n",
       "        \u001b[32m'**How Does Quantum Computing Work?**'\u001b[0m,\n",
       "        \u001b[32m''\u001b[0m,\n",
       "        \u001b[32m'A quantum computer consists of several components:'\u001b[0m,\n",
       "        \u001b[32m''\u001b[0m,\n",
       "        \u001b[32m'1. **Qubits**: These are the basic units of quantum information.'\u001b[0m,\n",
       "        \u001b[32m'2. **Quantum Gates**: These are the quantum equivalent of logic gates in classical computers. They perform\u001b[0m\n",
       "\u001b[32moperations on qubits, such as rotation and entanglement.'\u001b[0m,\n",
       "        \u001b[32m'3. **Quantum Algorithms**: These are the programs that run on a quantum computer. They use quantum \u001b[0m\n",
       "\u001b[32mmechanics to solve specific problems.'\u001b[0m,\n",
       "        \u001b[32m''\u001b[0m,\n",
       "        \u001b[32m'**Types of Quantum Computing**'\u001b[0m,\n",
       "        \u001b[32m''\u001b[0m,\n",
       "        \u001b[32m'1. **Gate-Based Quantum Computing**: This is the most common type, where quantum gates are used to \u001b[0m\n",
       "\u001b[32mmanipulate qubits.'\u001b[0m,\n",
       "        \u001b[32m'2. **Analog Quantum Computing**: This approach uses continuous-variable quantum systems, such as \u001b[0m\n",
       "\u001b[32msuperconducting circuits or optical systems.'\u001b[0m,\n",
       "        \u001b[32m'3. **Topological Quantum Computing**: This method uses exotic materials called topological insulators to \u001b[0m\n",
       "\u001b[32mcreate a robust and fault-tolerant quantum computer.'\u001b[0m,\n",
       "        \u001b[32m''\u001b[0m,\n",
       "        \u001b[32m'**Applications of Quantum Computing**'\u001b[0m,\n",
       "        \u001b[32m''\u001b[0m,\n",
       "        \u001b[32m'1. **Cryptography**: Quantum computers can break certain classical encryption algorithms, but they also \u001b[0m\n",
       "\u001b[32menable new, quantum-resistant cryptography methods.'\u001b[0m,\n",
       "        \u001b[32m'2. **Optimization**: Quantum computers can solve complex optimization problems much faster than classical \u001b[0m\n",
       "\u001b[32mcomputers.'\u001b[0m,\n",
       "        \u001b[32m'3. **Simulation**: Quantum computers can simulate complex systems, such as molecules and chemical \u001b[0m\n",
       "\u001b[32mreactions, which could lead to breakthroughs in fields like chemistry and materials science.'\u001b[0m,\n",
       "        \u001b[32m'4. **Machine Learning**: Quantum computers can speed up certain machine learning algorithms, leading to \u001b[0m\n",
       "\u001b[32mpotential improvements in areas like image recognition and natural language processing.'\u001b[0m,\n",
       "        \u001b[32m''\u001b[0m,\n",
       "        \u001b[32m'**Challenges and Limitations**'\u001b[0m,\n",
       "        \u001b[32m''\u001b[0m,\n",
       "        \u001b[32m'1. **Error Correction**: Quantum computers are prone to errors due to the fragile nature of qubits. \u001b[0m\n",
       "\u001b[32mDeveloping robust error correction techniques is essential.'\u001b[0m,\n",
       "        \u001b[32m'2. **Scalability**: Currently, most quantum computers are small-scale and need to be scaled up to perform \u001b[0m\n",
       "\u001b[32mpractical calculations.'\u001b[0m,\n",
       "        \u001b[32m'3. **Quantum Noise**: Quantum systems are sensitive to noise, which can cause errors in computations.'\u001b[0m,\n",
       "        \u001b[32m''\u001b[0m,\n",
       "        \u001b[32m'**Conclusion**'\u001b[0m,\n",
       "        \u001b[32m''\u001b[0m,\n",
       "        \u001b[32m'Quantum Computing has the potential to revolutionize various fields by solving complex problems that are \u001b[0m\n",
       "\u001b[32mcurrently unsolvable or require an unfeasible amount of time using classical computers. While significant \u001b[0m\n",
       "\u001b[32mchallenges and limitations remain, researchers continue to advance the field, and its applications are expected to \u001b[0m\n",
       "\u001b[32mgrow exponentially in the coming years.'\u001b[0m\n",
       "    \u001b[1m]\u001b[0m,\n",
       "    \u001b[32m'response_length'\u001b[0m: \u001b[1;36m3696\u001b[0m\n",
       "\u001b[1m}\u001b[0m\n"
      ]
     },
     "metadata": {},
     "output_type": "display_data"
    }
   ],
   "source": [
    "print(\"-\" * 50,'\\n',\"DEMO 3: Advanced Chain with Data Transformation\",'\\n',\"-\" * 50)\n",
    "\n",
    "# Define a function to process input\n",
    "def preprocess_input(input_data: Dict[str, Any]) -> Dict[str, Any]:\n",
    "    \"\"\"Process the input data before sending to the LLM.\"\"\"\n",
    "    # Add a timestamp, capitalize the query, etc.\n",
    "    processed_data = input_data.copy()\n",
    "    processed_data[\"query\"] = input_data[\"query\"].upper()\n",
    "    processed_data[\"word_count\"] = len(input_data[\"query\"].split())\n",
    "    return processed_data\n",
    "\n",
    "\n",
    "# Define a function to process output\n",
    "def postprocess_output(output: str) -> Dict[str, Any]:\n",
    "    \"\"\"Process the output from the LLM.\"\"\"\n",
    "    lines = output.strip().split(\"\\n\")\n",
    "    return {\n",
    "        \"summary\": lines[0] if lines else \"\",\n",
    "        \"details\": lines[1:],\n",
    "        \"response_length\": len(output),\n",
    "    }\n",
    "\n",
    "\n",
    "# Create an advanced prompt\n",
    "advanced_prompt = ChatPromptTemplate.from_template(\n",
    "    \"\"\"Answer the following query: {query}\n",
    "\n",
    "    The query has {word_count} words.\n",
    "    Provide a detailed explanation.\n",
    "    \"\"\"\n",
    ")\n",
    "\n",
    "# Create an advanced chain with preprocessing and postprocessing\n",
    "advanced_chain = (\n",
    "    RunnableLambda(preprocess_input)\n",
    "    | advanced_prompt\n",
    "    | llm\n",
    "    | StrOutputParser()\n",
    "    | RunnableLambda(postprocess_output)\n",
    ")\n",
    "\n",
    "# Preprocess the input data\n",
    "preprocessed_data = preprocess_input({\"query\": \"Explain quantum computing\"})\n",
    "\n",
    "print(\"Prompt: \", advanced_prompt.format_prompt(**preprocessed_data).to_messages())\n",
    "print(\"Chain: \", advanced_chain.invoke(preprocessed_data))"
   ]
  },
  {
   "cell_type": "code",
   "execution_count": 10,
   "id": "2d52229f",
   "metadata": {},
   "outputs": [
    {
     "data": {
      "text/html": [
       "<pre style=\"white-space:pre;overflow-x:auto;line-height:normal;font-family:Menlo,'DejaVu Sans Mono',consolas,'Courier New',monospace\">Summary: LCE <span style=\"font-weight: bold\">(</span>Long Context Encoding<span style=\"font-weight: bold\">)</span> is a technique used to improve Large Language Model <span style=\"font-weight: bold\">(</span>LLM<span style=\"font-weight: bold\">)</span> applications. Here's\n",
       "a detailed explanation of how LCE improves LLM applications:\n",
       "</pre>\n"
      ],
      "text/plain": [
       "Summary: LCE \u001b[1m(\u001b[0mLong Context Encoding\u001b[1m)\u001b[0m is a technique used to improve Large Language Model \u001b[1m(\u001b[0mLLM\u001b[1m)\u001b[0m applications. Here's\n",
       "a detailed explanation of how LCE improves LLM applications:\n"
      ]
     },
     "metadata": {},
     "output_type": "display_data"
    },
    {
     "data": {
      "text/html": [
       "<pre style=\"white-space:pre;overflow-x:auto;line-height:normal;font-family:Menlo,'DejaVu Sans Mono',consolas,'Courier New',monospace\">Details:\n",
       "</pre>\n"
      ],
      "text/plain": [
       "Details:\n"
      ]
     },
     "metadata": {},
     "output_type": "display_data"
    },
    {
     "data": {
      "text/html": [
       "<pre style=\"white-space:pre;overflow-x:auto;line-height:normal;font-family:Menlo,'DejaVu Sans Mono',consolas,'Courier New',monospace\">- **Background**\n",
       "</pre>\n"
      ],
      "text/plain": [
       "- **Background**\n"
      ]
     },
     "metadata": {},
     "output_type": "display_data"
    },
    {
     "data": {
      "text/html": [
       "<pre style=\"white-space:pre;overflow-x:auto;line-height:normal;font-family:Menlo,'DejaVu Sans Mono',consolas,'Courier New',monospace\">- Large Language Models <span style=\"font-weight: bold\">(</span>LLMs<span style=\"font-weight: bold\">)</span> are trained on vast amounts of text data and generate responses based on patterns \n",
       "learned from this training data. However, LLMs often struggle with tasks that require understanding the context of \n",
       "a conversation or passage, such as answering questions, summarizing text, or generating coherent responses.\n",
       "</pre>\n"
      ],
      "text/plain": [
       "- Large Language Models \u001b[1m(\u001b[0mLLMs\u001b[1m)\u001b[0m are trained on vast amounts of text data and generate responses based on patterns \n",
       "learned from this training data. However, LLMs often struggle with tasks that require understanding the context of \n",
       "a conversation or passage, such as answering questions, summarizing text, or generating coherent responses.\n"
      ]
     },
     "metadata": {},
     "output_type": "display_data"
    },
    {
     "data": {
      "text/html": [
       "<pre style=\"white-space:pre;overflow-x:auto;line-height:normal;font-family:Menlo,'DejaVu Sans Mono',consolas,'Courier New',monospace\">- **The Problem**\n",
       "</pre>\n"
      ],
      "text/plain": [
       "- **The Problem**\n"
      ]
     },
     "metadata": {},
     "output_type": "display_data"
    },
    {
     "data": {
      "text/html": [
       "<pre style=\"white-space:pre;overflow-x:auto;line-height:normal;font-family:Menlo,'DejaVu Sans Mono',consolas,'Courier New',monospace\">- One major challenge in LLM applications is the lack of contextual information. When an LLM generates a response, \n",
       "it may not fully understand the context of the input prompt or the conversation history. This can lead to:\n",
       "</pre>\n"
      ],
      "text/plain": [
       "- One major challenge in LLM applications is the lack of contextual information. When an LLM generates a response, \n",
       "it may not fully understand the context of the input prompt or the conversation history. This can lead to:\n"
      ]
     },
     "metadata": {},
     "output_type": "display_data"
    },
    {
     "data": {
      "text/html": [
       "<pre style=\"white-space:pre;overflow-x:auto;line-height:normal;font-family:Menlo,'DejaVu Sans Mono',consolas,'Courier New',monospace\">- <span style=\"color: #008080; text-decoration-color: #008080; font-weight: bold\">1</span>. Inconsistent responses: The model may generate responses that are inconsistent with previous statements or \n",
       "context.\n",
       "</pre>\n"
      ],
      "text/plain": [
       "- \u001b[1;36m1\u001b[0m. Inconsistent responses: The model may generate responses that are inconsistent with previous statements or \n",
       "context.\n"
      ]
     },
     "metadata": {},
     "output_type": "display_data"
    },
    {
     "data": {
      "text/html": [
       "<pre style=\"white-space:pre;overflow-x:auto;line-height:normal;font-family:Menlo,'DejaVu Sans Mono',consolas,'Courier New',monospace\">- <span style=\"color: #008080; text-decoration-color: #008080; font-weight: bold\">2</span>. Lack of coherence: The model's responses may lack coherence and flow, making them difficult to follow.\n",
       "</pre>\n"
      ],
      "text/plain": [
       "- \u001b[1;36m2\u001b[0m. Lack of coherence: The model's responses may lack coherence and flow, making them difficult to follow.\n"
      ]
     },
     "metadata": {},
     "output_type": "display_data"
    },
    {
     "data": {
      "text/html": [
       "<pre style=\"white-space:pre;overflow-x:auto;line-height:normal;font-family:Menlo,'DejaVu Sans Mono',consolas,'Courier New',monospace\">- **LCE Solution**\n",
       "</pre>\n"
      ],
      "text/plain": [
       "- **LCE Solution**\n"
      ]
     },
     "metadata": {},
     "output_type": "display_data"
    },
    {
     "data": {
      "text/html": [
       "<pre style=\"white-space:pre;overflow-x:auto;line-height:normal;font-family:Menlo,'DejaVu Sans Mono',consolas,'Courier New',monospace\">- Long Context Encoding <span style=\"font-weight: bold\">(</span>LCE<span style=\"font-weight: bold\">)</span> is a technique designed to address these challenges by encoding the input prompt and \n",
       "conversation history into a fixed-size vector representation. This allows the LLM to capture more context \n",
       "information and generate more coherent and consistent responses.\n",
       "</pre>\n"
      ],
      "text/plain": [
       "- Long Context Encoding \u001b[1m(\u001b[0mLCE\u001b[1m)\u001b[0m is a technique designed to address these challenges by encoding the input prompt and \n",
       "conversation history into a fixed-size vector representation. This allows the LLM to capture more context \n",
       "information and generate more coherent and consistent responses.\n"
      ]
     },
     "metadata": {},
     "output_type": "display_data"
    },
    {
     "data": {
      "text/html": [
       "<pre style=\"white-space:pre;overflow-x:auto;line-height:normal;font-family:Menlo,'DejaVu Sans Mono',consolas,'Courier New',monospace\">- Here's how LCE works:\n",
       "</pre>\n"
      ],
      "text/plain": [
       "- Here's how LCE works:\n"
      ]
     },
     "metadata": {},
     "output_type": "display_data"
    },
    {
     "data": {
      "text/html": [
       "<pre style=\"white-space:pre;overflow-x:auto;line-height:normal;font-family:Menlo,'DejaVu Sans Mono',consolas,'Courier New',monospace\">- <span style=\"color: #008080; text-decoration-color: #008080; font-weight: bold\">1</span>. **Input Encoding**: The input prompt and conversation history are encoded into a fixed-size vector \n",
       "representation using a transformer-based encoder.\n",
       "</pre>\n"
      ],
      "text/plain": [
       "- \u001b[1;36m1\u001b[0m. **Input Encoding**: The input prompt and conversation history are encoded into a fixed-size vector \n",
       "representation using a transformer-based encoder.\n"
      ]
     },
     "metadata": {},
     "output_type": "display_data"
    },
    {
     "data": {
      "text/html": [
       "<pre style=\"white-space:pre;overflow-x:auto;line-height:normal;font-family:Menlo,'DejaVu Sans Mono',consolas,'Courier New',monospace\">- <span style=\"color: #008080; text-decoration-color: #008080; font-weight: bold\">2</span>. **Contextualization**: The encoded vectors are then passed through a contextualization layer, which allows the\n",
       "model to capture long-range dependencies between tokens in the input text.\n",
       "</pre>\n"
      ],
      "text/plain": [
       "- \u001b[1;36m2\u001b[0m. **Contextualization**: The encoded vectors are then passed through a contextualization layer, which allows the\n",
       "model to capture long-range dependencies between tokens in the input text.\n"
      ]
     },
     "metadata": {},
     "output_type": "display_data"
    },
    {
     "data": {
      "text/html": [
       "<pre style=\"white-space:pre;overflow-x:auto;line-height:normal;font-family:Menlo,'DejaVu Sans Mono',consolas,'Courier New',monospace\">- <span style=\"color: #008080; text-decoration-color: #008080; font-weight: bold\">3</span>. **Response Generation**: The LLM generates responses based on the contextualized vectors and the output of a \n",
       "decoder.\n",
       "</pre>\n"
      ],
      "text/plain": [
       "- \u001b[1;36m3\u001b[0m. **Response Generation**: The LLM generates responses based on the contextualized vectors and the output of a \n",
       "decoder.\n"
      ]
     },
     "metadata": {},
     "output_type": "display_data"
    },
    {
     "data": {
      "text/html": [
       "<pre style=\"white-space:pre;overflow-x:auto;line-height:normal;font-family:Menlo,'DejaVu Sans Mono',consolas,'Courier New',monospace\">- **Benefits**\n",
       "</pre>\n"
      ],
      "text/plain": [
       "- **Benefits**\n"
      ]
     },
     "metadata": {},
     "output_type": "display_data"
    },
    {
     "data": {
      "text/html": [
       "<pre style=\"white-space:pre;overflow-x:auto;line-height:normal;font-family:Menlo,'DejaVu Sans Mono',consolas,'Courier New',monospace\">- The use of LCE in LLM applications offers several benefits:\n",
       "</pre>\n"
      ],
      "text/plain": [
       "- The use of LCE in LLM applications offers several benefits:\n"
      ]
     },
     "metadata": {},
     "output_type": "display_data"
    },
    {
     "data": {
      "text/html": [
       "<pre style=\"white-space:pre;overflow-x:auto;line-height:normal;font-family:Menlo,'DejaVu Sans Mono',consolas,'Courier New',monospace\">- <span style=\"color: #008080; text-decoration-color: #008080; font-weight: bold\">1</span>. **Improved Contextual Understanding**: LCE allows the model to capture more context information, leading to \n",
       "more coherent and consistent responses.\n",
       "</pre>\n"
      ],
      "text/plain": [
       "- \u001b[1;36m1\u001b[0m. **Improved Contextual Understanding**: LCE allows the model to capture more context information, leading to \n",
       "more coherent and consistent responses.\n"
      ]
     },
     "metadata": {},
     "output_type": "display_data"
    },
    {
     "data": {
      "text/html": [
       "<pre style=\"white-space:pre;overflow-x:auto;line-height:normal;font-family:Menlo,'DejaVu Sans Mono',consolas,'Courier New',monospace\">- <span style=\"color: #008080; text-decoration-color: #008080; font-weight: bold\">2</span>. **Enhanced Coherence**: By encoding the input prompt and conversation history into a fixed-size vector \n",
       "representation, LCE enables the model to generate responses that are more cohesive and flowing.\n",
       "</pre>\n"
      ],
      "text/plain": [
       "- \u001b[1;36m2\u001b[0m. **Enhanced Coherence**: By encoding the input prompt and conversation history into a fixed-size vector \n",
       "representation, LCE enables the model to generate responses that are more cohesive and flowing.\n"
      ]
     },
     "metadata": {},
     "output_type": "display_data"
    },
    {
     "data": {
      "text/html": [
       "<pre style=\"white-space:pre;overflow-x:auto;line-height:normal;font-family:Menlo,'DejaVu Sans Mono',consolas,'Courier New',monospace\">- <span style=\"color: #008080; text-decoration-color: #008080; font-weight: bold\">3</span>. **Increased Consistency**: LCE helps reduce inconsistencies in responses by allowing the model to capture \n",
       "long-range dependencies between tokens.\n",
       "</pre>\n"
      ],
      "text/plain": [
       "- \u001b[1;36m3\u001b[0m. **Increased Consistency**: LCE helps reduce inconsistencies in responses by allowing the model to capture \n",
       "long-range dependencies between tokens.\n"
      ]
     },
     "metadata": {},
     "output_type": "display_data"
    },
    {
     "data": {
      "text/html": [
       "<pre style=\"white-space:pre;overflow-x:auto;line-height:normal;font-family:Menlo,'DejaVu Sans Mono',consolas,'Courier New',monospace\">- **Applications**\n",
       "</pre>\n"
      ],
      "text/plain": [
       "- **Applications**\n"
      ]
     },
     "metadata": {},
     "output_type": "display_data"
    },
    {
     "data": {
      "text/html": [
       "<pre style=\"white-space:pre;overflow-x:auto;line-height:normal;font-family:Menlo,'DejaVu Sans Mono',consolas,'Courier New',monospace\">- LCE can be applied to various LLM applications, including:\n",
       "</pre>\n"
      ],
      "text/plain": [
       "- LCE can be applied to various LLM applications, including:\n"
      ]
     },
     "metadata": {},
     "output_type": "display_data"
    },
    {
     "data": {
      "text/html": [
       "<pre style=\"white-space:pre;overflow-x:auto;line-height:normal;font-family:Menlo,'DejaVu Sans Mono',consolas,'Courier New',monospace\">- <span style=\"color: #008080; text-decoration-color: #008080; font-weight: bold\">1</span>. **Conversational AI**: LCE improves conversational AI systems by enabling them to understand context and \n",
       "generate more coherent responses.\n",
       "</pre>\n"
      ],
      "text/plain": [
       "- \u001b[1;36m1\u001b[0m. **Conversational AI**: LCE improves conversational AI systems by enabling them to understand context and \n",
       "generate more coherent responses.\n"
      ]
     },
     "metadata": {},
     "output_type": "display_data"
    },
    {
     "data": {
      "text/html": [
       "<pre style=\"white-space:pre;overflow-x:auto;line-height:normal;font-family:Menlo,'DejaVu Sans Mono',consolas,'Courier New',monospace\">- <span style=\"color: #008080; text-decoration-color: #008080; font-weight: bold\">2</span>. **Text Summarization**: LCE enhances text summarization models by allowing them to capture more context \n",
       "information and generate more concise summaries.\n",
       "</pre>\n"
      ],
      "text/plain": [
       "- \u001b[1;36m2\u001b[0m. **Text Summarization**: LCE enhances text summarization models by allowing them to capture more context \n",
       "information and generate more concise summaries.\n"
      ]
     },
     "metadata": {},
     "output_type": "display_data"
    },
    {
     "data": {
      "text/html": [
       "<pre style=\"white-space:pre;overflow-x:auto;line-height:normal;font-family:Menlo,'DejaVu Sans Mono',consolas,'Courier New',monospace\">- <span style=\"color: #008080; text-decoration-color: #008080; font-weight: bold\">3</span>. **Question Answering**: LCE improves question answering models by enabling them to understand the context of \n",
       "the input prompt and generate more accurate answers.\n",
       "</pre>\n"
      ],
      "text/plain": [
       "- \u001b[1;36m3\u001b[0m. **Question Answering**: LCE improves question answering models by enabling them to understand the context of \n",
       "the input prompt and generate more accurate answers.\n"
      ]
     },
     "metadata": {},
     "output_type": "display_data"
    },
    {
     "data": {
      "text/html": [
       "<pre style=\"white-space:pre;overflow-x:auto;line-height:normal;font-family:Menlo,'DejaVu Sans Mono',consolas,'Courier New',monospace\">- In summary, LCE is a technique that uses Long Context Encoding to improve Large Language Model applications by \n",
       "capturing more context information and generating more coherent and consistent responses.\n",
       "</pre>\n"
      ],
      "text/plain": [
       "- In summary, LCE is a technique that uses Long Context Encoding to improve Large Language Model applications by \n",
       "capturing more context information and generating more coherent and consistent responses.\n"
      ]
     },
     "metadata": {},
     "output_type": "display_data"
    },
    {
     "data": {
      "text/html": [
       "<pre style=\"white-space:pre;overflow-x:auto;line-height:normal;font-family:Menlo,'DejaVu Sans Mono',consolas,'Courier New',monospace\">Response Length: <span style=\"color: #008080; text-decoration-color: #008080; font-weight: bold\">3093</span> characters\n",
       "</pre>\n"
      ],
      "text/plain": [
       "Response Length: \u001b[1;36m3093\u001b[0m characters\n"
      ]
     },
     "metadata": {},
     "output_type": "display_data"
    },
    {
     "data": {
      "text/html": [
       "<pre style=\"white-space:pre;overflow-x:auto;line-height:normal;font-family:Menlo,'DejaVu Sans Mono',consolas,'Courier New',monospace\">\n",
       "\n",
       "</pre>\n"
      ],
      "text/plain": [
       "\n",
       "\n"
      ]
     },
     "metadata": {},
     "output_type": "display_data"
    }
   ],
   "source": [
    "# Run the advanced chain\n",
    "advanced_result = advanced_chain.invoke(\n",
    "    {\"query\": \"how does LCEL improve LLM applications\"}\n",
    ")\n",
    "print(f\"Summary: {advanced_result['summary']}\")\n",
    "print(\"Details:\")\n",
    "for detail in advanced_result[\"details\"]:\n",
    "    if detail.strip():\n",
    "        print(f\"- {detail.strip()}\")\n",
    "print(f\"Response Length: {advanced_result['response_length']} characters\")\n",
    "print(\"\\n\")"
   ]
  },
  {
   "cell_type": "markdown",
   "id": "18cd6b14",
   "metadata": {},
   "source": [
    "## SECTION 4: RAG Pattern with LCEL"
   ]
  },
  {
   "cell_type": "code",
   "execution_count": 11,
   "id": "38c5eb22",
   "metadata": {},
   "outputs": [
    {
     "data": {
      "text/html": [
       "<pre style=\"white-space:pre;overflow-x:auto;line-height:normal;font-family:Menlo,'DejaVu Sans Mono',consolas,'Courier New',monospace\">-------------------------------------------------- \n",
       " DEMO <span style=\"color: #008080; text-decoration-color: #008080; font-weight: bold\">4</span>: RAG Pattern with LCEL <span style=\"font-weight: bold\">(</span>Simulated<span style=\"font-weight: bold\">)</span> \n",
       " --------------------------------------------------\n",
       "</pre>\n"
      ],
      "text/plain": [
       "-------------------------------------------------- \n",
       " DEMO \u001b[1;36m4\u001b[0m: RAG Pattern with LCEL \u001b[1m(\u001b[0mSimulated\u001b[1m)\u001b[0m \n",
       " --------------------------------------------------\n"
      ]
     },
     "metadata": {},
     "output_type": "display_data"
    },
    {
     "data": {
      "text/html": [
       "<pre style=\"white-space:pre;overflow-x:auto;line-height:normal;font-family:Menlo,'DejaVu Sans Mono',consolas,'Courier New',monospace\">Prompt: \n",
       "<span style=\"font-weight: bold\">[</span>\n",
       "    <span style=\"color: #800080; text-decoration-color: #800080; font-weight: bold\">HumanMessage</span><span style=\"font-weight: bold\">(</span>\n",
       "        <span style=\"color: #808000; text-decoration-color: #808000\">content</span>=<span style=\"color: #008000; text-decoration-color: #008000\">'Answer the question based on the following context:\\n\\n    Context:\\n    context\\n\\n    Question: </span>\n",
       "<span style=\"color: #008000; text-decoration-color: #008000\">question\\n    '</span>,\n",
       "        <span style=\"color: #808000; text-decoration-color: #808000\">additional_kwargs</span>=<span style=\"font-weight: bold\">{}</span>,\n",
       "        <span style=\"color: #808000; text-decoration-color: #808000\">response_metadata</span>=<span style=\"font-weight: bold\">{}</span>\n",
       "    <span style=\"font-weight: bold\">)</span>\n",
       "<span style=\"font-weight: bold\">]</span>\n",
       "</pre>\n"
      ],
      "text/plain": [
       "Prompt: \n",
       "\u001b[1m[\u001b[0m\n",
       "    \u001b[1;35mHumanMessage\u001b[0m\u001b[1m(\u001b[0m\n",
       "        \u001b[33mcontent\u001b[0m=\u001b[32m'Answer the question based on the following context:\\n\\n    Context:\\n    context\\n\\n    Question: \u001b[0m\n",
       "\u001b[32mquestion\\n    '\u001b[0m,\n",
       "        \u001b[33madditional_kwargs\u001b[0m=\u001b[1m{\u001b[0m\u001b[1m}\u001b[0m,\n",
       "        \u001b[33mresponse_metadata\u001b[0m=\u001b[1m{\u001b[0m\u001b[1m}\u001b[0m\n",
       "    \u001b[1m)\u001b[0m\n",
       "\u001b[1m]\u001b[0m\n"
      ]
     },
     "metadata": {},
     "output_type": "display_data"
    },
    {
     "data": {
      "text/html": [
       "<pre style=\"white-space:pre;overflow-x:auto;line-height:normal;font-family:Menlo,'DejaVu Sans Mono',consolas,'Courier New',monospace\">Chain:  Based on the provided context, LCEL stands for LangChain Expression Language. It is a simplification of \n",
       "building complex Large Language Model <span style=\"font-weight: bold\">(</span>LLM<span style=\"font-weight: bold\">)</span> applications in LangChain, allowing for declarative chain construction \n",
       "and supporting features such as streaming, async operations, and parallel execution.\n",
       "</pre>\n"
      ],
      "text/plain": [
       "Chain:  Based on the provided context, LCEL stands for LangChain Expression Language. It is a simplification of \n",
       "building complex Large Language Model \u001b[1m(\u001b[0mLLM\u001b[1m)\u001b[0m applications in LangChain, allowing for declarative chain construction \n",
       "and supporting features such as streaming, async operations, and parallel execution.\n"
      ]
     },
     "metadata": {},
     "output_type": "display_data"
    }
   ],
   "source": [
    "print(\"-\" * 50,'\\n',\"DEMO 4: RAG Pattern with LCEL (Simulated)\",'\\n',\"-\" * 50)\n",
    "\n",
    "\n",
    "# Simulate a retriever function\n",
    "def simulate_retrieval(query: str) -> List[str]:\n",
    "    \"\"\"Simulate document retrieval based on query.\"\"\"\n",
    "    # In a real application, this would query a vector database\n",
    "    documents = [\n",
    "        \"LCEL allows for declarative chain construction in LangChain.\",\n",
    "        \"LangChain Expression Language simplifies building complex LLM applications.\",\n",
    "        \"LCEL supports streaming, async operations, and parallel execution.\",\n",
    "    ]\n",
    "    return documents\n",
    "\n",
    "\n",
    "# Create a RAG prompt\n",
    "rag_prompt = ChatPromptTemplate.from_template(\n",
    "    \"\"\"Answer the question based on the following context:\n",
    "\n",
    "    Context:\n",
    "    {context}\n",
    "\n",
    "    Question: {question}\n",
    "    \"\"\"\n",
    ")\n",
    "\n",
    "\n",
    "# Create a RAG chain\n",
    "def format_docs(docs):\n",
    "    return \"\\n\".join(docs)\n",
    "\n",
    "\n",
    "rag_chain = (\n",
    "    RunnableParallel(\n",
    "        {\n",
    "            \"context\": RunnableLambda(simulate_retrieval) | RunnableLambda(format_docs),\n",
    "            \"question\": RunnablePassthrough(),\n",
    "        }\n",
    "    )\n",
    "    | rag_prompt\n",
    "    | llm\n",
    "    | StrOutputParser()\n",
    ")\n",
    "\n",
    "print(\"Prompt: \", rag_prompt.format_prompt(context=\"context\", question=\"question\").to_messages())\n",
    "print(\"Chain: \", rag_chain.invoke({\"question\": \"What is LCEL?\"}))"
   ]
  },
  {
   "cell_type": "code",
   "execution_count": 12,
   "id": "6c7c4dd7",
   "metadata": {},
   "outputs": [
    {
     "data": {
      "text/html": [
       "<pre style=\"white-space:pre;overflow-x:auto;line-height:normal;font-family:Menlo,'DejaVu Sans Mono',consolas,'Courier New',monospace\">Based on the provided context, LCEL stands for LangChain Expression Language. It is a tool that allows for \n",
       "declarative chain construction in LangChain, which simplifies building complex Large Language Model <span style=\"font-weight: bold\">(</span>LLM<span style=\"font-weight: bold\">)</span> \n",
       "applications. LCEL is useful because it supports streaming, async operations, and parallel execution, making it \n",
       "easier to construct complex chains of operations and improve the performance of LLM applications.\n",
       "</pre>\n"
      ],
      "text/plain": [
       "Based on the provided context, LCEL stands for LangChain Expression Language. It is a tool that allows for \n",
       "declarative chain construction in LangChain, which simplifies building complex Large Language Model \u001b[1m(\u001b[0mLLM\u001b[1m)\u001b[0m \n",
       "applications. LCEL is useful because it supports streaming, async operations, and parallel execution, making it \n",
       "easier to construct complex chains of operations and improve the performance of LLM applications.\n"
      ]
     },
     "metadata": {},
     "output_type": "display_data"
    }
   ],
   "source": [
    "# Run the RAG chain\n",
    "rag_result = rag_chain.invoke(\"What is LCEL and why is it useful?\")\n",
    "print(rag_result)"
   ]
  }
 ],
 "metadata": {
  "kernelspec": {
   "display_name": "py312",
   "language": "python",
   "name": "python3"
  },
  "language_info": {
   "codemirror_mode": {
    "name": "ipython",
    "version": 3
   },
   "file_extension": ".py",
   "mimetype": "text/x-python",
   "name": "python",
   "nbconvert_exporter": "python",
   "pygments_lexer": "ipython3",
   "version": "3.12.7"
  }
 },
 "nbformat": 4,
 "nbformat_minor": 5
}
