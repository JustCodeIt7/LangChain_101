{
 "cells": [
  {
   "cell_type": "markdown",
   "metadata": {},
   "source": [
    "# LangChain Expression Language (LCEL) Basics\n",
    "\n",
    "LangChain Expression Language (LCEL) is a simple expression language that can be used to define and evaluate expressions. It is designed to be simple and easy to use, while still being powerful enough to express a wide range of expressions.\n",
    "\n",
    "## Basic Syntax\n",
    "\n",
    "The basic syntax of LCEL is similar to many other programming languages, with expressions consisting of operators and operands. Here are some examples of basic expressions in LCEL:\n",
    "\n",
    "- `1 + 2`: Adds two numbers together\n",
    "- `3 * 4`: Multiplies two numbers together\n"
   ]
  },
  {
   "cell_type": "markdown",
   "metadata": {},
   "source": []
  }
 ],
 "metadata": {
  "language_info": {
   "name": "python"
  }
 },
 "nbformat": 4,
 "nbformat_minor": 2
}
