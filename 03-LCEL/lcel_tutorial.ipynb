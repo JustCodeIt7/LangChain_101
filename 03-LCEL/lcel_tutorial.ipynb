{
 "cells": [
  {
   "cell_type": "markdown",
   "id": "5e308526",
   "metadata": {},
   "source": [
    "# LangChain Expression Language (LCEL) Tutorial"
   ]
  },
  {
   "cell_type": "code",
   "execution_count": 33,
   "id": "9e819ac4",
   "metadata": {},
   "outputs": [],
   "source": [
    "from typing import Any, Dict, List\n",
    "\n",
    "from dotenv import load_dotenv\n",
    "from langchain_core.output_parsers import JsonOutputParser, StrOutputParser\n",
    "\n",
    "# Import LangChain components\n",
    "from langchain_core.prompts import ChatPromptTemplate\n",
    "from langchain_core.runnables import (\n",
    "    RunnableLambda,\n",
    "    RunnableParallel,\n",
    "    RunnablePassthrough,\n",
    ")\n",
    "from langchain_ollama import ChatOllama\n",
    "from pydantic import BaseModel\n",
    "from rich import print"
   ]
  },
  {
   "cell_type": "code",
   "execution_count": 34,
   "id": "b6f519c1",
   "metadata": {},
   "outputs": [],
   "source": [
    "# Load environment variables\n",
    "load_dotenv()\n",
    "\n",
    "# Initialize the LLM\n",
    "llm = ChatOllama(model=\"llama3.2\",temperature=0.3)"
   ]
  },
  {
   "cell_type": "markdown",
   "id": "ca1c735a",
   "metadata": {},
   "source": [
    "## SECTION 1: Basic LCEL Chain"
   ]
  },
  {
   "cell_type": "code",
   "execution_count": 35,
   "id": "a30b7ca2",
   "metadata": {},
   "outputs": [
    {
     "data": {
      "text/html": [
       "<pre style=\"white-space:pre;overflow-x:auto;line-height:normal;font-family:Menlo,'DejaVu Sans Mono',consolas,'Courier New',monospace\">-------------------------------------------------- \n",
       " DEMO <span style=\"color: #008080; text-decoration-color: #008080; font-weight: bold\">1</span>: Basic LCEL Chain \n",
       " --------------------------------------------------\n",
       "</pre>\n"
      ],
      "text/plain": [
       "-------------------------------------------------- \n",
       " DEMO \u001b[1;36m1\u001b[0m: Basic LCEL Chain \n",
       " --------------------------------------------------\n"
      ]
     },
     "metadata": {},
     "output_type": "display_data"
    },
    {
     "data": {
      "text/html": [
       "<pre style=\"white-space:pre;overflow-x:auto;line-height:normal;font-family:Menlo,'DejaVu Sans Mono',consolas,'Courier New',monospace\">Prompt: \n",
       "<span style=\"font-weight: bold\">[</span><span style=\"color: #800080; text-decoration-color: #800080; font-weight: bold\">HumanMessage</span><span style=\"font-weight: bold\">(</span><span style=\"color: #808000; text-decoration-color: #808000\">content</span>=<span style=\"color: #008000; text-decoration-color: #008000\">'Tell me a short joke about cats.'</span>, <span style=\"color: #808000; text-decoration-color: #808000\">additional_kwargs</span>=<span style=\"font-weight: bold\">{}</span>, <span style=\"color: #808000; text-decoration-color: #808000\">response_metadata</span>=<span style=\"font-weight: bold\">{})]</span>\n",
       "</pre>\n"
      ],
      "text/plain": [
       "Prompt: \n",
       "\u001b[1m[\u001b[0m\u001b[1;35mHumanMessage\u001b[0m\u001b[1m(\u001b[0m\u001b[33mcontent\u001b[0m=\u001b[32m'Tell me a short joke about cats.'\u001b[0m, \u001b[33madditional_kwargs\u001b[0m=\u001b[1m{\u001b[0m\u001b[1m}\u001b[0m, \u001b[33mresponse_metadata\u001b[0m=\u001b[1m{\u001b[0m\u001b[1m}\u001b[0m\u001b[1m)\u001b[0m\u001b[1m]\u001b[0m\n"
      ]
     },
     "metadata": {},
     "output_type": "display_data"
    },
    {
     "data": {
      "text/html": [
       "<pre style=\"white-space:pre;overflow-x:auto;line-height:normal;font-family:Menlo,'DejaVu Sans Mono',consolas,'Courier New',monospace\">Chain:  Why did the cat join a band?\n",
       "\n",
       "Because it wanted to be the purr-cussionist!\n",
       "</pre>\n"
      ],
      "text/plain": [
       "Chain:  Why did the cat join a band?\n",
       "\n",
       "Because it wanted to be the purr-cussionist!\n"
      ]
     },
     "metadata": {},
     "output_type": "display_data"
    }
   ],
   "source": [
    "print(\"-\" * 50,'\\n',\"DEMO 1: Basic LCEL Chain\",'\\n',\"-\" * 50)\n",
    "\n",
    "# Create a simple prompt template\n",
    "prompt = ChatPromptTemplate.from_template(\"Tell me a short joke about {topic}.\")\n",
    "\n",
    "# Create a basic chain using the | operator (pipe)\n",
    "basic_chain = prompt | llm | StrOutputParser()\n",
    "\n",
    "\n",
    "print(\"Prompt: \", prompt.format_prompt(topic=\"cats\").to_messages())\n",
    "print(\"Chain: \", basic_chain.invoke({\"topic\": \"cats\"}))"
   ]
  },
  {
   "cell_type": "code",
   "execution_count": 36,
   "id": "f0ca3c21",
   "metadata": {},
   "outputs": [
    {
     "data": {
      "text/html": [
       "<pre style=\"white-space:pre;overflow-x:auto;line-height:normal;font-family:Menlo,'DejaVu Sans Mono',consolas,'Courier New',monospace\">Why do programmers prefer dark mode?\n",
       "\n",
       "Because light attracts bugs.\n",
       "</pre>\n"
      ],
      "text/plain": [
       "Why do programmers prefer dark mode?\n",
       "\n",
       "Because light attracts bugs.\n"
      ]
     },
     "metadata": {},
     "output_type": "display_data"
    },
    {
     "data": {
      "text/html": [
       "<pre style=\"white-space:pre;overflow-x:auto;line-height:normal;font-family:Menlo,'DejaVu Sans Mono',consolas,'Courier New',monospace\">\n",
       "\n",
       "</pre>\n"
      ],
      "text/plain": [
       "\n",
       "\n"
      ]
     },
     "metadata": {},
     "output_type": "display_data"
    }
   ],
   "source": [
    "# Run the chain\n",
    "result = basic_chain.invoke({\"topic\": \"programming\"})\n",
    "print(result)\n",
    "print(\"\\n\")"
   ]
  },
  {
   "cell_type": "markdown",
   "id": "58e14221",
   "metadata": {},
   "source": [
    "## SECTION 2: Parallel Processing with LCEL"
   ]
  },
  {
   "cell_type": "code",
   "execution_count": 37,
   "id": "73272e82",
   "metadata": {},
   "outputs": [
    {
     "data": {
      "text/html": [
       "<pre style=\"white-space:pre;overflow-x:auto;line-height:normal;font-family:Menlo,'DejaVu Sans Mono',consolas,'Courier New',monospace\">-------------------------------------------------- \n",
       " DEMO <span style=\"color: #008080; text-decoration-color: #008080; font-weight: bold\">2</span>: Parallel Processing with LCEL \n",
       " --------------------------------------------------\n",
       "</pre>\n"
      ],
      "text/plain": [
       "-------------------------------------------------- \n",
       " DEMO \u001b[1;36m2\u001b[0m: Parallel Processing with LCEL \n",
       " --------------------------------------------------\n"
      ]
     },
     "metadata": {},
     "output_type": "display_data"
    },
    {
     "data": {
      "text/html": [
       "<pre style=\"white-space:pre;overflow-x:auto;line-height:normal;font-family:Menlo,'DejaVu Sans Mono',consolas,'Courier New',monospace\">Prompt: \n",
       "<span style=\"font-weight: bold\">[</span><span style=\"color: #800080; text-decoration-color: #800080; font-weight: bold\">HumanMessage</span><span style=\"font-weight: bold\">(</span><span style=\"color: #808000; text-decoration-color: #808000\">content</span>=<span style=\"color: #008000; text-decoration-color: #008000\">'List 3 pros of AI technology.'</span>, <span style=\"color: #808000; text-decoration-color: #808000\">additional_kwargs</span>=<span style=\"font-weight: bold\">{}</span>, <span style=\"color: #808000; text-decoration-color: #808000\">response_metadata</span>=<span style=\"font-weight: bold\">{})]</span>\n",
       "</pre>\n"
      ],
      "text/plain": [
       "Prompt: \n",
       "\u001b[1m[\u001b[0m\u001b[1;35mHumanMessage\u001b[0m\u001b[1m(\u001b[0m\u001b[33mcontent\u001b[0m=\u001b[32m'List 3 pros of AI technology.'\u001b[0m, \u001b[33madditional_kwargs\u001b[0m=\u001b[1m{\u001b[0m\u001b[1m}\u001b[0m, \u001b[33mresponse_metadata\u001b[0m=\u001b[1m{\u001b[0m\u001b[1m}\u001b[0m\u001b[1m)\u001b[0m\u001b[1m]\u001b[0m\n"
      ]
     },
     "metadata": {},
     "output_type": "display_data"
    },
    {
     "data": {
      "text/html": [
       "<pre style=\"white-space:pre;overflow-x:auto;line-height:normal;font-family:Menlo,'DejaVu Sans Mono',consolas,'Courier New',monospace\">Chain: \n",
       "<span style=\"font-weight: bold\">{</span>\n",
       "    <span style=\"color: #008000; text-decoration-color: #008000\">'pros'</span>: <span style=\"color: #008000; text-decoration-color: #008000\">'Here are three pros of AI technology:\\n\\n1. **Improved Efficiency and Productivity**: Artificial </span>\n",
       "<span style=\"color: #008000; text-decoration-color: #008000\">intelligence can automate repetitive and mundane tasks, freeing up human time and energy for more complex and </span>\n",
       "<span style=\"color: #008000; text-decoration-color: #008000\">creative work. This can lead to increased productivity, improved accuracy, and enhanced overall efficiency.\\n\\n2. </span>\n",
       "<span style=\"color: #008000; text-decoration-color: #008000\">**Enhanced Decision-Making**: AI algorithms can analyze vast amounts of data quickly and accurately, providing </span>\n",
       "<span style=\"color: #008000; text-decoration-color: #008000\">insights that may not be apparent to humans. This can help organizations make better decisions, identify trends, </span>\n",
       "<span style=\"color: #008000; text-decoration-color: #008000\">and predict outcomes.\\n\\n3. **Personalized Experiences and Improved Customer Service**: AI-powered chatbots and </span>\n",
       "<span style=\"color: #008000; text-decoration-color: #008000\">virtual assistants can provide personalized experiences for customers, responding to their queries and preferences </span>\n",
       "<span style=\"color: #008000; text-decoration-color: #008000\">in real-time. This can lead to improved customer satisfaction, increased loyalty, and enhanced overall customer </span>\n",
       "<span style=\"color: #008000; text-decoration-color: #008000\">experience.'</span>,\n",
       "    <span style=\"color: #008000; text-decoration-color: #008000\">'cons'</span>: <span style=\"color: #008000; text-decoration-color: #008000\">'Here are three cons of AI technology:\\n\\n1. **Job Displacement**: The increasing use of AI in various </span>\n",
       "<span style=\"color: #008000; text-decoration-color: #008000\">industries can lead to job displacement, particularly in sectors where tasks are repetitive or can be easily </span>\n",
       "<span style=\"color: #008000; text-decoration-color: #008000\">automated. This can result in significant unemployment and economic disruption.\\n\\n2. **Bias and Discrimination**: </span>\n",
       "<span style=\"color: #008000; text-decoration-color: #008000\">AI systems can perpetuate existing biases and discriminatory practices if they are trained on biased data or </span>\n",
       "<span style=\"color: #008000; text-decoration-color: #008000\">designed with a particular worldview. This can lead to unfair outcomes in areas such as hiring, law enforcement, </span>\n",
       "<span style=\"color: #008000; text-decoration-color: #008000\">and healthcare.\\n\\n3. **Loss of Human Touch and Emotional Intelligence**: Over-reliance on AI can lead to a loss of</span>\n",
       "<span style=\"color: #008000; text-decoration-color: #008000\">human touch and emotional intelligence, particularly in customer service and other fields where empathy and </span>\n",
       "<span style=\"color: #008000; text-decoration-color: #008000\">understanding are essential. While AI can provide quick answers and solutions, it often lacks the nuance and </span>\n",
       "<span style=\"color: #008000; text-decoration-color: #008000\">compassion that humans bring to complex problems.'</span>\n",
       "<span style=\"font-weight: bold\">}</span>\n",
       "</pre>\n"
      ],
      "text/plain": [
       "Chain: \n",
       "\u001b[1m{\u001b[0m\n",
       "    \u001b[32m'pros'\u001b[0m: \u001b[32m'Here are three pros of AI technology:\\n\\n1. **Improved Efficiency and Productivity**: Artificial \u001b[0m\n",
       "\u001b[32mintelligence can automate repetitive and mundane tasks, freeing up human time and energy for more complex and \u001b[0m\n",
       "\u001b[32mcreative work. This can lead to increased productivity, improved accuracy, and enhanced overall efficiency.\\n\\n2. \u001b[0m\n",
       "\u001b[32m**Enhanced Decision-Making**: AI algorithms can analyze vast amounts of data quickly and accurately, providing \u001b[0m\n",
       "\u001b[32minsights that may not be apparent to humans. This can help organizations make better decisions, identify trends, \u001b[0m\n",
       "\u001b[32mand predict outcomes.\\n\\n3. **Personalized Experiences and Improved Customer Service**: AI-powered chatbots and \u001b[0m\n",
       "\u001b[32mvirtual assistants can provide personalized experiences for customers, responding to their queries and preferences \u001b[0m\n",
       "\u001b[32min real-time. This can lead to improved customer satisfaction, increased loyalty, and enhanced overall customer \u001b[0m\n",
       "\u001b[32mexperience.'\u001b[0m,\n",
       "    \u001b[32m'cons'\u001b[0m: \u001b[32m'Here are three cons of AI technology:\\n\\n1. **Job Displacement**: The increasing use of AI in various \u001b[0m\n",
       "\u001b[32mindustries can lead to job displacement, particularly in sectors where tasks are repetitive or can be easily \u001b[0m\n",
       "\u001b[32mautomated. This can result in significant unemployment and economic disruption.\\n\\n2. **Bias and Discrimination**: \u001b[0m\n",
       "\u001b[32mAI systems can perpetuate existing biases and discriminatory practices if they are trained on biased data or \u001b[0m\n",
       "\u001b[32mdesigned with a particular worldview. This can lead to unfair outcomes in areas such as hiring, law enforcement, \u001b[0m\n",
       "\u001b[32mand healthcare.\\n\\n3. **Loss of Human Touch and Emotional Intelligence**: Over-reliance on AI can lead to a loss of\u001b[0m\n",
       "\u001b[32mhuman touch and emotional intelligence, particularly in customer service and other fields where empathy and \u001b[0m\n",
       "\u001b[32munderstanding are essential. While AI can provide quick answers and solutions, it often lacks the nuance and \u001b[0m\n",
       "\u001b[32mcompassion that humans bring to complex problems.'\u001b[0m\n",
       "\u001b[1m}\u001b[0m\n"
      ]
     },
     "metadata": {},
     "output_type": "display_data"
    }
   ],
   "source": [
    "print(\"-\" * 50,'\\n',\"DEMO 2: Parallel Processing with LCEL\",'\\n',\"-\" * 50)\n",
    "\n",
    "# Create two different prompts\n",
    "pros_prompt = ChatPromptTemplate.from_template(\n",
    "    \"List 3 pros of {technology} technology.\"\n",
    ")\n",
    "cons_prompt = ChatPromptTemplate.from_template(\n",
    "    \"List 3 cons of {technology} technology.\"\n",
    ")\n",
    "\n",
    "# Create chains for each prompt\n",
    "pros_chain = pros_prompt | llm | StrOutputParser()\n",
    "cons_chain = cons_prompt | llm | StrOutputParser()\n",
    "\n",
    "# Create a parallel chain\n",
    "parallel_chain = RunnableParallel(pros=pros_chain, cons=cons_chain)\n",
    "\n",
    "print(\"Prompt: \", pros_prompt.format_prompt(technology=\"AI\").to_messages())\n",
    "print(\"Chain: \", parallel_chain.invoke({\"technology\": \"AI\"}))"
   ]
  },
  {
   "cell_type": "code",
   "execution_count": 38,
   "id": "d10310d5",
   "metadata": {},
   "outputs": [
    {
     "data": {
      "text/html": [
       "<pre style=\"white-space:pre;overflow-x:auto;line-height:normal;font-family:Menlo,'DejaVu Sans Mono',consolas,'Courier New',monospace\">PROS:\n",
       "</pre>\n"
      ],
      "text/plain": [
       "PROS:\n"
      ]
     },
     "metadata": {},
     "output_type": "display_data"
    },
    {
     "data": {
      "text/html": [
       "<pre style=\"white-space:pre;overflow-x:auto;line-height:normal;font-family:Menlo,'DejaVu Sans Mono',consolas,'Courier New',monospace\">Here are three pros of blockchain technology:\n",
       "\n",
       "<span style=\"color: #008080; text-decoration-color: #008080; font-weight: bold\">1</span>. **Security and Transparency**: Blockchain technology uses a decentralized, distributed ledger that records \n",
       "transactions across a network of computers. This makes it virtually impossible to alter or manipulate the data, \n",
       "ensuring the integrity and security of the information.\n",
       "\n",
       "<span style=\"color: #008080; text-decoration-color: #008080; font-weight: bold\">2</span>. **Immutable and Tamper-Proof**: The use of cryptography and complex algorithms in blockchain technology ensures \n",
       "that once data is recorded on the blockchain, it cannot be altered or deleted. This provides a high level of trust \n",
       "and reliability in transactions and data storage.\n",
       "\n",
       "<span style=\"color: #008080; text-decoration-color: #008080; font-weight: bold\">3</span>. **Decentralized and Autonomous**: Blockchain technology operates independently of central authorities, allowing \n",
       "for peer-to-peer transactions and decision-making without the need for intermediaries. This decentralized approach \n",
       "enables greater autonomy, efficiency, and scalability in various applications, such as supply chain management and \n",
       "voting systems.\n",
       "</pre>\n"
      ],
      "text/plain": [
       "Here are three pros of blockchain technology:\n",
       "\n",
       "\u001b[1;36m1\u001b[0m. **Security and Transparency**: Blockchain technology uses a decentralized, distributed ledger that records \n",
       "transactions across a network of computers. This makes it virtually impossible to alter or manipulate the data, \n",
       "ensuring the integrity and security of the information.\n",
       "\n",
       "\u001b[1;36m2\u001b[0m. **Immutable and Tamper-Proof**: The use of cryptography and complex algorithms in blockchain technology ensures \n",
       "that once data is recorded on the blockchain, it cannot be altered or deleted. This provides a high level of trust \n",
       "and reliability in transactions and data storage.\n",
       "\n",
       "\u001b[1;36m3\u001b[0m. **Decentralized and Autonomous**: Blockchain technology operates independently of central authorities, allowing \n",
       "for peer-to-peer transactions and decision-making without the need for intermediaries. This decentralized approach \n",
       "enables greater autonomy, efficiency, and scalability in various applications, such as supply chain management and \n",
       "voting systems.\n"
      ]
     },
     "metadata": {},
     "output_type": "display_data"
    },
    {
     "data": {
      "text/html": [
       "<pre style=\"white-space:pre;overflow-x:auto;line-height:normal;font-family:Menlo,'DejaVu Sans Mono',consolas,'Courier New',monospace\">\n",
       "CONS:\n",
       "</pre>\n"
      ],
      "text/plain": [
       "\n",
       "CONS:\n"
      ]
     },
     "metadata": {},
     "output_type": "display_data"
    },
    {
     "data": {
      "text/html": [
       "<pre style=\"white-space:pre;overflow-x:auto;line-height:normal;font-family:Menlo,'DejaVu Sans Mono',consolas,'Courier New',monospace\">Here are three cons of blockchain technology:\n",
       "\n",
       "<span style=\"color: #008080; text-decoration-color: #008080; font-weight: bold\">1</span>. **Scalability limitations**: Blockchain technology is still in its early stages, and many blockchain networks \n",
       "face scalability issues due to the limited number of transactions that can be processed per second. This can lead \n",
       "to slow transaction processing times, high fees, and congestion on the network.\n",
       "\n",
       "<span style=\"color: #008080; text-decoration-color: #008080; font-weight: bold\">2</span>. **Energy consumption**: The process of validating transactions on a blockchain requires significant \n",
       "computational power, which often relies on energy-intensive mining operations. This has led to concerns about the \n",
       "environmental impact of blockchain technology, particularly for proof-of-work <span style=\"font-weight: bold\">(</span>PoW<span style=\"font-weight: bold\">)</span> consensus algorithms like \n",
       "Bitcoin.\n",
       "\n",
       "<span style=\"color: #008080; text-decoration-color: #008080; font-weight: bold\">3</span>. **Regulatory uncertainty and complexity**: Blockchain technology operates in a gray area between traditional \n",
       "financial regulations and emerging regulatory frameworks. This can create uncertainty and complexity for businesses\n",
       "and individuals looking to use blockchain-based solutions, as they may not be aware of the specific laws and \n",
       "regulations that apply to their activities.\n",
       "</pre>\n"
      ],
      "text/plain": [
       "Here are three cons of blockchain technology:\n",
       "\n",
       "\u001b[1;36m1\u001b[0m. **Scalability limitations**: Blockchain technology is still in its early stages, and many blockchain networks \n",
       "face scalability issues due to the limited number of transactions that can be processed per second. This can lead \n",
       "to slow transaction processing times, high fees, and congestion on the network.\n",
       "\n",
       "\u001b[1;36m2\u001b[0m. **Energy consumption**: The process of validating transactions on a blockchain requires significant \n",
       "computational power, which often relies on energy-intensive mining operations. This has led to concerns about the \n",
       "environmental impact of blockchain technology, particularly for proof-of-work \u001b[1m(\u001b[0mPoW\u001b[1m)\u001b[0m consensus algorithms like \n",
       "Bitcoin.\n",
       "\n",
       "\u001b[1;36m3\u001b[0m. **Regulatory uncertainty and complexity**: Blockchain technology operates in a gray area between traditional \n",
       "financial regulations and emerging regulatory frameworks. This can create uncertainty and complexity for businesses\n",
       "and individuals looking to use blockchain-based solutions, as they may not be aware of the specific laws and \n",
       "regulations that apply to their activities.\n"
      ]
     },
     "metadata": {},
     "output_type": "display_data"
    },
    {
     "data": {
      "text/html": [
       "<pre style=\"white-space:pre;overflow-x:auto;line-height:normal;font-family:Menlo,'DejaVu Sans Mono',consolas,'Courier New',monospace\">\n",
       "\n",
       "</pre>\n"
      ],
      "text/plain": [
       "\n",
       "\n"
      ]
     },
     "metadata": {},
     "output_type": "display_data"
    }
   ],
   "source": [
    "\n",
    "# Run the parallel chain\n",
    "parallel_result = parallel_chain.invoke({\"technology\": \"blockchain\"})\n",
    "print(\"PROS:\")\n",
    "print(parallel_result[\"pros\"])\n",
    "print(\"\\nCONS:\")\n",
    "print(parallel_result[\"cons\"])\n",
    "print(\"\\n\")"
   ]
  },
  {
   "cell_type": "markdown",
   "id": "2a7c8ffd",
   "metadata": {},
   "source": [
    "## SECTION 3: Advanced Chain with Data Transformation"
   ]
  },
  {
   "cell_type": "code",
   "execution_count": 40,
   "id": "792963b1",
   "metadata": {},
   "outputs": [
    {
     "data": {
      "text/html": [
       "<pre style=\"white-space:pre;overflow-x:auto;line-height:normal;font-family:Menlo,'DejaVu Sans Mono',consolas,'Courier New',monospace\">-------------------------------------------------- \n",
       " DEMO <span style=\"color: #008080; text-decoration-color: #008080; font-weight: bold\">3</span>: Advanced Chain with Data Transformation \n",
       " --------------------------------------------------\n",
       "</pre>\n"
      ],
      "text/plain": [
       "-------------------------------------------------- \n",
       " DEMO \u001b[1;36m3\u001b[0m: Advanced Chain with Data Transformation \n",
       " --------------------------------------------------\n"
      ]
     },
     "metadata": {},
     "output_type": "display_data"
    },
    {
     "data": {
      "text/html": [
       "<pre style=\"white-space:pre;overflow-x:auto;line-height:normal;font-family:Menlo,'DejaVu Sans Mono',consolas,'Courier New',monospace\">Prompt: \n",
       "<span style=\"font-weight: bold\">[</span>\n",
       "    <span style=\"color: #800080; text-decoration-color: #800080; font-weight: bold\">HumanMessage</span><span style=\"font-weight: bold\">(</span>\n",
       "        <span style=\"color: #808000; text-decoration-color: #808000\">content</span>=<span style=\"color: #008000; text-decoration-color: #008000\">'Answer the following query: EXPLAIN QUANTUM COMPUTING\\n\\n    The query has 3 words.\\n    Provide a</span>\n",
       "<span style=\"color: #008000; text-decoration-color: #008000\">detailed explanation.\\n    '</span>,\n",
       "        <span style=\"color: #808000; text-decoration-color: #808000\">additional_kwargs</span>=<span style=\"font-weight: bold\">{}</span>,\n",
       "        <span style=\"color: #808000; text-decoration-color: #808000\">response_metadata</span>=<span style=\"font-weight: bold\">{}</span>\n",
       "    <span style=\"font-weight: bold\">)</span>\n",
       "<span style=\"font-weight: bold\">]</span>\n",
       "</pre>\n"
      ],
      "text/plain": [
       "Prompt: \n",
       "\u001b[1m[\u001b[0m\n",
       "    \u001b[1;35mHumanMessage\u001b[0m\u001b[1m(\u001b[0m\n",
       "        \u001b[33mcontent\u001b[0m=\u001b[32m'Answer the following query: EXPLAIN QUANTUM COMPUTING\\n\\n    The query has 3 words.\\n    Provide a\u001b[0m\n",
       "\u001b[32mdetailed explanation.\\n    '\u001b[0m,\n",
       "        \u001b[33madditional_kwargs\u001b[0m=\u001b[1m{\u001b[0m\u001b[1m}\u001b[0m,\n",
       "        \u001b[33mresponse_metadata\u001b[0m=\u001b[1m{\u001b[0m\u001b[1m}\u001b[0m\n",
       "    \u001b[1m)\u001b[0m\n",
       "\u001b[1m]\u001b[0m\n"
      ]
     },
     "metadata": {},
     "output_type": "display_data"
    },
    {
     "data": {
      "text/html": [
       "<pre style=\"white-space:pre;overflow-x:auto;line-height:normal;font-family:Menlo,'DejaVu Sans Mono',consolas,'Courier New',monospace\">Chain: \n",
       "<span style=\"font-weight: bold\">{</span>\n",
       "    <span style=\"color: #008000; text-decoration-color: #008000\">'summary'</span>: <span style=\"color: #008000; text-decoration-color: #008000\">\"Quantum computing is a revolutionary technology that leverages the principles of quantum mechanics </span>\n",
       "<span style=\"color: #008000; text-decoration-color: #008000\">to perform calculations and operations on data. It's a field that has gained significant attention in recent years </span>\n",
       "<span style=\"color: #008000; text-decoration-color: #008000\">due to its potential to solve complex problems that are currently unsolvable or require an unfeasible amount of </span>\n",
       "<span style=\"color: #008000; text-decoration-color: #008000\">time to solve using classical computers.\"</span>,\n",
       "    <span style=\"color: #008000; text-decoration-color: #008000\">'details'</span>: <span style=\"font-weight: bold\">[</span>\n",
       "        <span style=\"color: #008000; text-decoration-color: #008000\">''</span>,\n",
       "        <span style=\"color: #008000; text-decoration-color: #008000\">'**What is Quantum Computing?**'</span>,\n",
       "        <span style=\"color: #008000; text-decoration-color: #008000\">''</span>,\n",
       "        <span style=\"color: #008000; text-decoration-color: #008000\">'Quantum computing is based on the idea that quantum-mechanical phenomena, such as superposition and </span>\n",
       "<span style=\"color: #008000; text-decoration-color: #008000\">entanglement, can be harnessed to perform calculations. In a classical computer, information is represented as </span>\n",
       "<span style=\"color: #008000; text-decoration-color: #008000\">bits, which can have a value of either 0 or 1. In contrast, quantum computers use qubits (quantum bits), which can </span>\n",
       "<span style=\"color: #008000; text-decoration-color: #008000\">exist in multiple states simultaneously, known as superposition.'</span>,\n",
       "        <span style=\"color: #008000; text-decoration-color: #008000\">''</span>,\n",
       "        <span style=\"color: #008000; text-decoration-color: #008000\">'**Key Principles of Quantum Computing**'</span>,\n",
       "        <span style=\"color: #008000; text-decoration-color: #008000\">''</span>,\n",
       "        <span style=\"color: #008000; text-decoration-color: #008000\">'1. **Superposition**: Qubits can exist in multiple states at the same time, allowing for the simultaneous </span>\n",
       "<span style=\"color: #008000; text-decoration-color: #008000\">processing of multiple possibilities.'</span>,\n",
       "        <span style=\"color: #008000; text-decoration-color: #008000\">'2. **Entanglement**: Qubits can become \"entangled,\" meaning that their properties are connected, even when</span>\n",
       "<span style=\"color: #008000; text-decoration-color: #008000\">separated by large distances.'</span>,\n",
       "        <span style=\"color: #008000; text-decoration-color: #008000\">'3. **Quantum Measurement**: When a qubit is measured, its state collapses to one of the possible </span>\n",
       "<span style=\"color: #008000; text-decoration-color: #008000\">outcomes.'</span>,\n",
       "        <span style=\"color: #008000; text-decoration-color: #008000\">''</span>,\n",
       "        <span style=\"color: #008000; text-decoration-color: #008000\">'**How Does Quantum Computing Work?**'</span>,\n",
       "        <span style=\"color: #008000; text-decoration-color: #008000\">''</span>,\n",
       "        <span style=\"color: #008000; text-decoration-color: #008000\">'1. **Qubit Creation**: Qubits are created using quantum gates, which are the quantum equivalent of logic </span>\n",
       "<span style=\"color: #008000; text-decoration-color: #008000\">gates in classical computing.'</span>,\n",
       "        <span style=\"color: #008000; text-decoration-color: #008000\">'2. **Quantum Circuit**: A series of quantum gates are applied to qubits to perform a computation.'</span>,\n",
       "        <span style=\"color: #008000; text-decoration-color: #008000\">'3. **Quantum Measurement**: The final state of the qubits is measured, collapsing the superposition into </span>\n",
       "<span style=\"color: #008000; text-decoration-color: #008000\">one of the possible outcomes.'</span>,\n",
       "        <span style=\"color: #008000; text-decoration-color: #008000\">''</span>,\n",
       "        <span style=\"color: #008000; text-decoration-color: #008000\">'**Advantages of Quantum Computing**'</span>,\n",
       "        <span style=\"color: #008000; text-decoration-color: #008000\">''</span>,\n",
       "        <span style=\"color: #008000; text-decoration-color: #008000\">'1. **Exponential Scaling**: Quantum computers can solve certain problems much faster than classical </span>\n",
       "<span style=\"color: #008000; text-decoration-color: #008000\">computers, thanks to the exponential scaling of qubits.'</span>,\n",
       "        <span style=\"color: #008000; text-decoration-color: #008000\">'2. **Simulations**: Quantum computers can simulate complex systems, such as molecules and chemical </span>\n",
       "<span style=\"color: #008000; text-decoration-color: #008000\">reactions, which is crucial for fields like chemistry and materials science.'</span>,\n",
       "        <span style=\"color: #008000; text-decoration-color: #008000\">'3. **Cryptography**: Quantum computers can break certain types of classical encryption algorithms, but </span>\n",
       "<span style=\"color: #008000; text-decoration-color: #008000\">they can also be used to create new, quantum-resistant encryption methods.'</span>,\n",
       "        <span style=\"color: #008000; text-decoration-color: #008000\">''</span>,\n",
       "        <span style=\"color: #008000; text-decoration-color: #008000\">'**Challenges and Limitations**'</span>,\n",
       "        <span style=\"color: #008000; text-decoration-color: #008000\">''</span>,\n",
       "        <span style=\"color: #008000; text-decoration-color: #008000\">'1. **Error Correction**: Quantum computers are prone to errors due to the fragile nature of qubits.'</span>,\n",
       "        <span style=\"color: #008000; text-decoration-color: #008000\">'2. **Scalability**: Currently, most quantum computers are small-scale and need to be scaled up to perform </span>\n",
       "<span style=\"color: #008000; text-decoration-color: #008000\">practical computations.'</span>,\n",
       "        <span style=\"color: #008000; text-decoration-color: #008000\">'3. **Quantum Noise**: Quantum computers are susceptible to noise, which can cause errors in </span>\n",
       "<span style=\"color: #008000; text-decoration-color: #008000\">calculations.'</span>,\n",
       "        <span style=\"color: #008000; text-decoration-color: #008000\">''</span>,\n",
       "        <span style=\"color: #008000; text-decoration-color: #008000\">'**Applications of Quantum Computing**'</span>,\n",
       "        <span style=\"color: #008000; text-decoration-color: #008000\">''</span>,\n",
       "        <span style=\"color: #008000; text-decoration-color: #008000\">'1. **Cryptography**: Quantum-resistant encryption methods, such as lattice-based cryptography.'</span>,\n",
       "        <span style=\"color: #008000; text-decoration-color: #008000\">'2. **Optimization**: Solving complex optimization problems, such as logistics and supply chain </span>\n",
       "<span style=\"color: #008000; text-decoration-color: #008000\">management.'</span>,\n",
       "        <span style=\"color: #008000; text-decoration-color: #008000\">'3. **Materials Science**: Simulating the behavior of materials at the atomic level.'</span>,\n",
       "        <span style=\"color: #008000; text-decoration-color: #008000\">'4. **Artificial Intelligence**: Quantum algorithms for machine learning and natural language processing.'</span>,\n",
       "        <span style=\"color: #008000; text-decoration-color: #008000\">''</span>,\n",
       "        <span style=\"color: #008000; text-decoration-color: #008000\">'**Current State of Quantum Computing**'</span>,\n",
       "        <span style=\"color: #008000; text-decoration-color: #008000\">''</span>,\n",
       "        <span style=\"color: #008000; text-decoration-color: #008000\">'Quantum computing is still in its early stages, with many challenges to overcome before it can be widely </span>\n",
       "<span style=\"color: #008000; text-decoration-color: #008000\">adopted. However, significant progress has been made in recent years, with companies like Google, IBM, and </span>\n",
       "<span style=\"color: #008000; text-decoration-color: #008000\">Microsoft investing heavily in quantum computing research and development.'</span>,\n",
       "        <span style=\"color: #008000; text-decoration-color: #008000\">''</span>,\n",
       "        <span style=\"color: #008000; text-decoration-color: #008000\">\"In summary, quantum computing is a revolutionary technology that leverages the principles of quantum </span>\n",
       "<span style=\"color: #008000; text-decoration-color: #008000\">mechanics to perform calculations and operations on data. While it's still in its early stages, quantum computing </span>\n",
       "<span style=\"color: #008000; text-decoration-color: #008000\">has the potential to solve complex problems that are currently unsolvable or require an unfeasible amount of time </span>\n",
       "<span style=\"color: #008000; text-decoration-color: #008000\">to solve using classical computers.\"</span>\n",
       "    <span style=\"font-weight: bold\">]</span>,\n",
       "    <span style=\"color: #008000; text-decoration-color: #008000\">'response_length'</span>: <span style=\"color: #008080; text-decoration-color: #008080; font-weight: bold\">3669</span>\n",
       "<span style=\"font-weight: bold\">}</span>\n",
       "</pre>\n"
      ],
      "text/plain": [
       "Chain: \n",
       "\u001b[1m{\u001b[0m\n",
       "    \u001b[32m'summary'\u001b[0m: \u001b[32m\"Quantum computing is a revolutionary technology that leverages the principles of quantum mechanics \u001b[0m\n",
       "\u001b[32mto perform calculations and operations on data. It's a field that has gained significant attention in recent years \u001b[0m\n",
       "\u001b[32mdue to its potential to solve complex problems that are currently unsolvable or require an unfeasible amount of \u001b[0m\n",
       "\u001b[32mtime to solve using classical computers.\"\u001b[0m,\n",
       "    \u001b[32m'details'\u001b[0m: \u001b[1m[\u001b[0m\n",
       "        \u001b[32m''\u001b[0m,\n",
       "        \u001b[32m'**What is Quantum Computing?**'\u001b[0m,\n",
       "        \u001b[32m''\u001b[0m,\n",
       "        \u001b[32m'Quantum computing is based on the idea that quantum-mechanical phenomena, such as superposition and \u001b[0m\n",
       "\u001b[32mentanglement, can be harnessed to perform calculations. In a classical computer, information is represented as \u001b[0m\n",
       "\u001b[32mbits, which can have a value of either 0 or 1. In contrast, quantum computers use qubits \u001b[0m\u001b[32m(\u001b[0m\u001b[32mquantum bits\u001b[0m\u001b[32m)\u001b[0m\u001b[32m, which can \u001b[0m\n",
       "\u001b[32mexist in multiple states simultaneously, known as superposition.'\u001b[0m,\n",
       "        \u001b[32m''\u001b[0m,\n",
       "        \u001b[32m'**Key Principles of Quantum Computing**'\u001b[0m,\n",
       "        \u001b[32m''\u001b[0m,\n",
       "        \u001b[32m'1. **Superposition**: Qubits can exist in multiple states at the same time, allowing for the simultaneous \u001b[0m\n",
       "\u001b[32mprocessing of multiple possibilities.'\u001b[0m,\n",
       "        \u001b[32m'2. **Entanglement**: Qubits can become \"entangled,\" meaning that their properties are connected, even when\u001b[0m\n",
       "\u001b[32mseparated by large distances.'\u001b[0m,\n",
       "        \u001b[32m'3. **Quantum Measurement**: When a qubit is measured, its state collapses to one of the possible \u001b[0m\n",
       "\u001b[32moutcomes.'\u001b[0m,\n",
       "        \u001b[32m''\u001b[0m,\n",
       "        \u001b[32m'**How Does Quantum Computing Work?**'\u001b[0m,\n",
       "        \u001b[32m''\u001b[0m,\n",
       "        \u001b[32m'1. **Qubit Creation**: Qubits are created using quantum gates, which are the quantum equivalent of logic \u001b[0m\n",
       "\u001b[32mgates in classical computing.'\u001b[0m,\n",
       "        \u001b[32m'2. **Quantum Circuit**: A series of quantum gates are applied to qubits to perform a computation.'\u001b[0m,\n",
       "        \u001b[32m'3. **Quantum Measurement**: The final state of the qubits is measured, collapsing the superposition into \u001b[0m\n",
       "\u001b[32mone of the possible outcomes.'\u001b[0m,\n",
       "        \u001b[32m''\u001b[0m,\n",
       "        \u001b[32m'**Advantages of Quantum Computing**'\u001b[0m,\n",
       "        \u001b[32m''\u001b[0m,\n",
       "        \u001b[32m'1. **Exponential Scaling**: Quantum computers can solve certain problems much faster than classical \u001b[0m\n",
       "\u001b[32mcomputers, thanks to the exponential scaling of qubits.'\u001b[0m,\n",
       "        \u001b[32m'2. **Simulations**: Quantum computers can simulate complex systems, such as molecules and chemical \u001b[0m\n",
       "\u001b[32mreactions, which is crucial for fields like chemistry and materials science.'\u001b[0m,\n",
       "        \u001b[32m'3. **Cryptography**: Quantum computers can break certain types of classical encryption algorithms, but \u001b[0m\n",
       "\u001b[32mthey can also be used to create new, quantum-resistant encryption methods.'\u001b[0m,\n",
       "        \u001b[32m''\u001b[0m,\n",
       "        \u001b[32m'**Challenges and Limitations**'\u001b[0m,\n",
       "        \u001b[32m''\u001b[0m,\n",
       "        \u001b[32m'1. **Error Correction**: Quantum computers are prone to errors due to the fragile nature of qubits.'\u001b[0m,\n",
       "        \u001b[32m'2. **Scalability**: Currently, most quantum computers are small-scale and need to be scaled up to perform \u001b[0m\n",
       "\u001b[32mpractical computations.'\u001b[0m,\n",
       "        \u001b[32m'3. **Quantum Noise**: Quantum computers are susceptible to noise, which can cause errors in \u001b[0m\n",
       "\u001b[32mcalculations.'\u001b[0m,\n",
       "        \u001b[32m''\u001b[0m,\n",
       "        \u001b[32m'**Applications of Quantum Computing**'\u001b[0m,\n",
       "        \u001b[32m''\u001b[0m,\n",
       "        \u001b[32m'1. **Cryptography**: Quantum-resistant encryption methods, such as lattice-based cryptography.'\u001b[0m,\n",
       "        \u001b[32m'2. **Optimization**: Solving complex optimization problems, such as logistics and supply chain \u001b[0m\n",
       "\u001b[32mmanagement.'\u001b[0m,\n",
       "        \u001b[32m'3. **Materials Science**: Simulating the behavior of materials at the atomic level.'\u001b[0m,\n",
       "        \u001b[32m'4. **Artificial Intelligence**: Quantum algorithms for machine learning and natural language processing.'\u001b[0m,\n",
       "        \u001b[32m''\u001b[0m,\n",
       "        \u001b[32m'**Current State of Quantum Computing**'\u001b[0m,\n",
       "        \u001b[32m''\u001b[0m,\n",
       "        \u001b[32m'Quantum computing is still in its early stages, with many challenges to overcome before it can be widely \u001b[0m\n",
       "\u001b[32madopted. However, significant progress has been made in recent years, with companies like Google, IBM, and \u001b[0m\n",
       "\u001b[32mMicrosoft investing heavily in quantum computing research and development.'\u001b[0m,\n",
       "        \u001b[32m''\u001b[0m,\n",
       "        \u001b[32m\"In summary, quantum computing is a revolutionary technology that leverages the principles of quantum \u001b[0m\n",
       "\u001b[32mmechanics to perform calculations and operations on data. While it's still in its early stages, quantum computing \u001b[0m\n",
       "\u001b[32mhas the potential to solve complex problems that are currently unsolvable or require an unfeasible amount of time \u001b[0m\n",
       "\u001b[32mto solve using classical computers.\"\u001b[0m\n",
       "    \u001b[1m]\u001b[0m,\n",
       "    \u001b[32m'response_length'\u001b[0m: \u001b[1;36m3669\u001b[0m\n",
       "\u001b[1m}\u001b[0m\n"
      ]
     },
     "metadata": {},
     "output_type": "display_data"
    }
   ],
   "source": [
    "print(\"-\" * 50,'\\n',\"DEMO 3: Advanced Chain with Data Transformation\",'\\n',\"-\" * 50)\n",
    "\n",
    "# Define a function to process input\n",
    "def preprocess_input(input_data: Dict[str, Any]) -> Dict[str, Any]:\n",
    "    \"\"\"Process the input data before sending to the LLM.\"\"\"\n",
    "    # Add a timestamp, capitalize the query, etc.\n",
    "    processed_data = input_data.copy()\n",
    "    processed_data[\"query\"] = input_data[\"query\"].upper()\n",
    "    processed_data[\"word_count\"] = len(input_data[\"query\"].split())\n",
    "    return processed_data\n",
    "\n",
    "\n",
    "# Define a function to process output\n",
    "def postprocess_output(output: str) -> Dict[str, Any]:\n",
    "    \"\"\"Process the output from the LLM.\"\"\"\n",
    "    lines = output.strip().split(\"\\n\")\n",
    "    return {\n",
    "        \"summary\": lines[0] if lines else \"\",\n",
    "        \"details\": lines[1:],\n",
    "        \"response_length\": len(output),\n",
    "    }\n",
    "\n",
    "\n",
    "# Create an advanced prompt\n",
    "advanced_prompt = ChatPromptTemplate.from_template(\n",
    "    \"\"\"Answer the following query: {query}\n",
    "\n",
    "    The query has {word_count} words.\n",
    "    Provide a detailed explanation.\n",
    "    \"\"\"\n",
    ")\n",
    "\n",
    "# Create an advanced chain with preprocessing and postprocessing\n",
    "advanced_chain = (\n",
    "    RunnableLambda(preprocess_input)\n",
    "    | advanced_prompt\n",
    "    | llm\n",
    "    | StrOutputParser()\n",
    "    | RunnableLambda(postprocess_output)\n",
    ")\n",
    "\n",
    "# Preprocess the input data\n",
    "preprocessed_data = preprocess_input({\"query\": \"Explain quantum computing\"})\n",
    "\n",
    "print(\"Prompt: \", advanced_prompt.format_prompt(**preprocessed_data).to_messages())\n",
    "print(\"Chain: \", advanced_chain.invoke(preprocessed_data))"
   ]
  },
  {
   "cell_type": "code",
   "execution_count": 41,
   "id": "2d52229f",
   "metadata": {},
   "outputs": [
    {
     "data": {
      "text/html": [
       "<pre style=\"white-space:pre;overflow-x:auto;line-height:normal;font-family:Menlo,'DejaVu Sans Mono',consolas,'Courier New',monospace\">Summary: LCE <span style=\"font-weight: bold\">(</span>Loss Constrained Embeddings<span style=\"font-weight: bold\">)</span> is a technique used to improve Large Language Model <span style=\"font-weight: bold\">(</span>LLM<span style=\"font-weight: bold\">)</span> applications. \n",
       "Here's a detailed explanation of how LCE improves LLM applications:\n",
       "</pre>\n"
      ],
      "text/plain": [
       "Summary: LCE \u001b[1m(\u001b[0mLoss Constrained Embeddings\u001b[1m)\u001b[0m is a technique used to improve Large Language Model \u001b[1m(\u001b[0mLLM\u001b[1m)\u001b[0m applications. \n",
       "Here's a detailed explanation of how LCE improves LLM applications:\n"
      ]
     },
     "metadata": {},
     "output_type": "display_data"
    },
    {
     "data": {
      "text/html": [
       "<pre style=\"white-space:pre;overflow-x:auto;line-height:normal;font-family:Menlo,'DejaVu Sans Mono',consolas,'Courier New',monospace\">Details:\n",
       "</pre>\n"
      ],
      "text/plain": [
       "Details:\n"
      ]
     },
     "metadata": {},
     "output_type": "display_data"
    },
    {
     "data": {
      "text/html": [
       "<pre style=\"white-space:pre;overflow-x:auto;line-height:normal;font-family:Menlo,'DejaVu Sans Mono',consolas,'Courier New',monospace\">- **What are Loss Constrained Embeddings?**\n",
       "</pre>\n"
      ],
      "text/plain": [
       "- **What are Loss Constrained Embeddings?**\n"
      ]
     },
     "metadata": {},
     "output_type": "display_data"
    },
    {
     "data": {
      "text/html": [
       "<pre style=\"white-space:pre;overflow-x:auto;line-height:normal;font-family:Menlo,'DejaVu Sans Mono',consolas,'Courier New',monospace\">- Loss Constrained Embeddings is a method for training neural networks, including LLMs, to optimize their \n",
       "performance on specific tasks while preventing overfitting. The goal is to find a balance between the model's \n",
       "ability to generalize well and its capacity to fit the training data.\n",
       "</pre>\n"
      ],
      "text/plain": [
       "- Loss Constrained Embeddings is a method for training neural networks, including LLMs, to optimize their \n",
       "performance on specific tasks while preventing overfitting. The goal is to find a balance between the model's \n",
       "ability to generalize well and its capacity to fit the training data.\n"
      ]
     },
     "metadata": {},
     "output_type": "display_data"
    },
    {
     "data": {
      "text/html": [
       "<pre style=\"white-space:pre;overflow-x:auto;line-height:normal;font-family:Menlo,'DejaVu Sans Mono',consolas,'Courier New',monospace\">- **How does LCE improve LLM applications?**\n",
       "</pre>\n"
      ],
      "text/plain": [
       "- **How does LCE improve LLM applications?**\n"
      ]
     },
     "metadata": {},
     "output_type": "display_data"
    },
    {
     "data": {
      "text/html": [
       "<pre style=\"white-space:pre;overflow-x:auto;line-height:normal;font-family:Menlo,'DejaVu Sans Mono',consolas,'Courier New',monospace\">- LCE improves LLM applications in several ways:\n",
       "</pre>\n"
      ],
      "text/plain": [
       "- LCE improves LLM applications in several ways:\n"
      ]
     },
     "metadata": {},
     "output_type": "display_data"
    },
    {
     "data": {
      "text/html": [
       "<pre style=\"white-space:pre;overflow-x:auto;line-height:normal;font-family:Menlo,'DejaVu Sans Mono',consolas,'Courier New',monospace\">- <span style=\"color: #008080; text-decoration-color: #008080; font-weight: bold\">1</span>. **Regularization**: By constraining the embedding space, LCE acts as a regularization technique, preventing \n",
       "the model from overfitting to the training data. This helps the model generalize better to unseen data.\n",
       "</pre>\n"
      ],
      "text/plain": [
       "- \u001b[1;36m1\u001b[0m. **Regularization**: By constraining the embedding space, LCE acts as a regularization technique, preventing \n",
       "the model from overfitting to the training data. This helps the model generalize better to unseen data.\n"
      ]
     },
     "metadata": {},
     "output_type": "display_data"
    },
    {
     "data": {
      "text/html": [
       "<pre style=\"white-space:pre;overflow-x:auto;line-height:normal;font-family:Menlo,'DejaVu Sans Mono',consolas,'Courier New',monospace\">- <span style=\"color: #008080; text-decoration-color: #008080; font-weight: bold\">2</span>. **Improved generalization**: By reducing overfitting, LCE enables the model to perform better on tasks that \n",
       "require generalization, such as question answering, text classification, and language translation.\n",
       "</pre>\n"
      ],
      "text/plain": [
       "- \u001b[1;36m2\u001b[0m. **Improved generalization**: By reducing overfitting, LCE enables the model to perform better on tasks that \n",
       "require generalization, such as question answering, text classification, and language translation.\n"
      ]
     },
     "metadata": {},
     "output_type": "display_data"
    },
    {
     "data": {
      "text/html": [
       "<pre style=\"white-space:pre;overflow-x:auto;line-height:normal;font-family:Menlo,'DejaVu Sans Mono',consolas,'Courier New',monospace\">- <span style=\"color: #008080; text-decoration-color: #008080; font-weight: bold\">3</span>. **Reduced dimensionality**: LCE can reduce the dimensionality of the embedding space, which can lead to faster\n",
       "training times and improved performance on computationally expensive tasks.\n",
       "</pre>\n"
      ],
      "text/plain": [
       "- \u001b[1;36m3\u001b[0m. **Reduced dimensionality**: LCE can reduce the dimensionality of the embedding space, which can lead to faster\n",
       "training times and improved performance on computationally expensive tasks.\n"
      ]
     },
     "metadata": {},
     "output_type": "display_data"
    },
    {
     "data": {
      "text/html": [
       "<pre style=\"white-space:pre;overflow-x:auto;line-height:normal;font-family:Menlo,'DejaVu Sans Mono',consolas,'Courier New',monospace\">- <span style=\"color: #008080; text-decoration-color: #008080; font-weight: bold\">4</span>. **Improved interpretability**: By constraining the embedding space, LCE can help identify the most important \n",
       "features or dimensions in the data, making it easier to understand how the model is making predictions.\n",
       "</pre>\n"
      ],
      "text/plain": [
       "- \u001b[1;36m4\u001b[0m. **Improved interpretability**: By constraining the embedding space, LCE can help identify the most important \n",
       "features or dimensions in the data, making it easier to understand how the model is making predictions.\n"
      ]
     },
     "metadata": {},
     "output_type": "display_data"
    },
    {
     "data": {
      "text/html": [
       "<pre style=\"white-space:pre;overflow-x:auto;line-height:normal;font-family:Menlo,'DejaVu Sans Mono',consolas,'Courier New',monospace\">- <span style=\"color: #008080; text-decoration-color: #008080; font-weight: bold\">5</span>. **Robustness to noise**: LCE can improve the robustness of LLMs to noisy or corrupted input data by preventing\n",
       "the model from overfitting to specific patterns or outliers.\n",
       "</pre>\n"
      ],
      "text/plain": [
       "- \u001b[1;36m5\u001b[0m. **Robustness to noise**: LCE can improve the robustness of LLMs to noisy or corrupted input data by preventing\n",
       "the model from overfitting to specific patterns or outliers.\n"
      ]
     },
     "metadata": {},
     "output_type": "display_data"
    },
    {
     "data": {
      "text/html": [
       "<pre style=\"white-space:pre;overflow-x:auto;line-height:normal;font-family:Menlo,'DejaVu Sans Mono',consolas,'Courier New',monospace\">- **How does LCE work?**\n",
       "</pre>\n"
      ],
      "text/plain": [
       "- **How does LCE work?**\n"
      ]
     },
     "metadata": {},
     "output_type": "display_data"
    },
    {
     "data": {
      "text/html": [
       "<pre style=\"white-space:pre;overflow-x:auto;line-height:normal;font-family:Menlo,'DejaVu Sans Mono',consolas,'Courier New',monospace\">- LCE works by adding a regularization term to the loss function, which encourages the model to find embeddings \n",
       "that are close to the target distribution. The regularization term is typically based on the Kullback-Leibler <span style=\"font-weight: bold\">(</span>KL<span style=\"font-weight: bold\">)</span> \n",
       "divergence between the predicted and target distributions.\n",
       "</pre>\n"
      ],
      "text/plain": [
       "- LCE works by adding a regularization term to the loss function, which encourages the model to find embeddings \n",
       "that are close to the target distribution. The regularization term is typically based on the Kullback-Leibler \u001b[1m(\u001b[0mKL\u001b[1m)\u001b[0m \n",
       "divergence between the predicted and target distributions.\n"
      ]
     },
     "metadata": {},
     "output_type": "display_data"
    },
    {
     "data": {
      "text/html": [
       "<pre style=\"white-space:pre;overflow-x:auto;line-height:normal;font-family:Menlo,'DejaVu Sans Mono',consolas,'Courier New',monospace\">- The KL divergence measures the difference between two probability distributions, with lower values indicating \n",
       "greater similarity. By minimizing the KL divergence, LCE encourages the model to find embeddings that are close to \n",
       "the target distribution, which helps improve generalization and robustness.\n",
       "</pre>\n"
      ],
      "text/plain": [
       "- The KL divergence measures the difference between two probability distributions, with lower values indicating \n",
       "greater similarity. By minimizing the KL divergence, LCE encourages the model to find embeddings that are close to \n",
       "the target distribution, which helps improve generalization and robustness.\n"
      ]
     },
     "metadata": {},
     "output_type": "display_data"
    },
    {
     "data": {
      "text/html": [
       "<pre style=\"white-space:pre;overflow-x:auto;line-height:normal;font-family:Menlo,'DejaVu Sans Mono',consolas,'Courier New',monospace\">- **Applications of LCE**\n",
       "</pre>\n"
      ],
      "text/plain": [
       "- **Applications of LCE**\n"
      ]
     },
     "metadata": {},
     "output_type": "display_data"
    },
    {
     "data": {
      "text/html": [
       "<pre style=\"white-space:pre;overflow-x:auto;line-height:normal;font-family:Menlo,'DejaVu Sans Mono',consolas,'Courier New',monospace\">- LCE has been applied in various LLM applications, including:\n",
       "</pre>\n"
      ],
      "text/plain": [
       "- LCE has been applied in various LLM applications, including:\n"
      ]
     },
     "metadata": {},
     "output_type": "display_data"
    },
    {
     "data": {
      "text/html": [
       "<pre style=\"white-space:pre;overflow-x:auto;line-height:normal;font-family:Menlo,'DejaVu Sans Mono',consolas,'Courier New',monospace\">- <span style=\"color: #008080; text-decoration-color: #008080; font-weight: bold\">1</span>. **Question answering**: LCE can help improve question answering models by reducing overfitting and improving \n",
       "generalization.\n",
       "</pre>\n"
      ],
      "text/plain": [
       "- \u001b[1;36m1\u001b[0m. **Question answering**: LCE can help improve question answering models by reducing overfitting and improving \n",
       "generalization.\n"
      ]
     },
     "metadata": {},
     "output_type": "display_data"
    },
    {
     "data": {
      "text/html": [
       "<pre style=\"white-space:pre;overflow-x:auto;line-height:normal;font-family:Menlo,'DejaVu Sans Mono',consolas,'Courier New',monospace\">- <span style=\"color: #008080; text-decoration-color: #008080; font-weight: bold\">2</span>. **Text classification**: LCE can improve text classification models by reducing dimensionality and improving \n",
       "interpretability.\n",
       "</pre>\n"
      ],
      "text/plain": [
       "- \u001b[1;36m2\u001b[0m. **Text classification**: LCE can improve text classification models by reducing dimensionality and improving \n",
       "interpretability.\n"
      ]
     },
     "metadata": {},
     "output_type": "display_data"
    },
    {
     "data": {
      "text/html": [
       "<pre style=\"white-space:pre;overflow-x:auto;line-height:normal;font-family:Menlo,'DejaVu Sans Mono',consolas,'Courier New',monospace\">- <span style=\"color: #008080; text-decoration-color: #008080; font-weight: bold\">3</span>. **Language translation**: LCE can improve language translation models by reducing overfitting and improving \n",
       "robustness to noise.\n",
       "</pre>\n"
      ],
      "text/plain": [
       "- \u001b[1;36m3\u001b[0m. **Language translation**: LCE can improve language translation models by reducing overfitting and improving \n",
       "robustness to noise.\n"
      ]
     },
     "metadata": {},
     "output_type": "display_data"
    },
    {
     "data": {
      "text/html": [
       "<pre style=\"white-space:pre;overflow-x:auto;line-height:normal;font-family:Menlo,'DejaVu Sans Mono',consolas,'Courier New',monospace\">- In summary, LCE improves LLM applications by providing regularization, improving generalization, reducing \n",
       "dimensionality, improving interpretability, and increasing robustness to noise. By constraining the embedding \n",
       "space, LCE helps prevent overfitting and promotes more generalizable and robust models.\n",
       "</pre>\n"
      ],
      "text/plain": [
       "- In summary, LCE improves LLM applications by providing regularization, improving generalization, reducing \n",
       "dimensionality, improving interpretability, and increasing robustness to noise. By constraining the embedding \n",
       "space, LCE helps prevent overfitting and promotes more generalizable and robust models.\n"
      ]
     },
     "metadata": {},
     "output_type": "display_data"
    },
    {
     "data": {
      "text/html": [
       "<pre style=\"white-space:pre;overflow-x:auto;line-height:normal;font-family:Menlo,'DejaVu Sans Mono',consolas,'Courier New',monospace\">Response Length: <span style=\"color: #008080; text-decoration-color: #008080; font-weight: bold\">2994</span> characters\n",
       "</pre>\n"
      ],
      "text/plain": [
       "Response Length: \u001b[1;36m2994\u001b[0m characters\n"
      ]
     },
     "metadata": {},
     "output_type": "display_data"
    },
    {
     "data": {
      "text/html": [
       "<pre style=\"white-space:pre;overflow-x:auto;line-height:normal;font-family:Menlo,'DejaVu Sans Mono',consolas,'Courier New',monospace\">\n",
       "\n",
       "</pre>\n"
      ],
      "text/plain": [
       "\n",
       "\n"
      ]
     },
     "metadata": {},
     "output_type": "display_data"
    }
   ],
   "source": [
    "# Run the advanced chain\n",
    "advanced_result = advanced_chain.invoke(\n",
    "    {\"query\": \"how does LCEL improve LLM applications\"}\n",
    ")\n",
    "print(f\"Summary: {advanced_result['summary']}\")\n",
    "print(\"Details:\")\n",
    "for detail in advanced_result[\"details\"]:\n",
    "    if detail.strip():\n",
    "        print(f\"- {detail.strip()}\")\n",
    "print(f\"Response Length: {advanced_result['response_length']} characters\")\n",
    "print(\"\\n\")"
   ]
  },
  {
   "cell_type": "markdown",
   "id": "18cd6b14",
   "metadata": {},
   "source": [
    "## SECTION 4: RAG Pattern with LCEL"
   ]
  },
  {
   "cell_type": "code",
   "execution_count": null,
   "id": "38c5eb22",
   "metadata": {},
   "outputs": [],
   "source": [
    "print(\"-\" * 50,'\\n',\"DEMO 4: RAG Pattern with LCEL (Simulated)\",'\\n',\"-\" * 50)\n",
    "\n",
    "\n",
    "# Simulate a retriever function\n",
    "def simulate_retrieval(query: str) -> List[str]:\n",
    "    \"\"\"Simulate document retrieval based on query.\"\"\"\n",
    "    # In a real application, this would query a vector database\n",
    "    documents = [\n",
    "        \"LCEL allows for declarative chain construction in LangChain.\",\n",
    "        \"LangChain Expression Language simplifies building complex LLM applications.\",\n",
    "        \"LCEL supports streaming, async operations, and parallel execution.\",\n",
    "    ]\n",
    "    return documents\n",
    "\n",
    "\n",
    "# Create a RAG prompt\n",
    "rag_prompt = ChatPromptTemplate.from_template(\n",
    "    \"\"\"Answer the question based on the following context:\n",
    "\n",
    "    Context:\n",
    "    {context}\n",
    "\n",
    "    Question: {question}\n",
    "    \"\"\"\n",
    ")\n",
    "\n",
    "\n",
    "# Create a RAG chain\n",
    "def format_docs(docs):\n",
    "    return \"\\n\".join(docs)\n",
    "\n",
    "\n",
    "rag_chain = (\n",
    "    RunnableParallel(\n",
    "        {\n",
    "            \"context\": RunnableLambda(simulate_retrieval) | RunnableLambda(format_docs),\n",
    "            \"question\": RunnablePassthrough(),\n",
    "        }\n",
    "    )\n",
    "    | rag_prompt\n",
    "    | llm\n",
    "    | StrOutputParser()\n",
    ")\n",
    "\n",
    "print(\"Prompt: \", rag_prompt.format_prompt(context=\"context\", question=\"question\").to_messages())\n",
    "print(\"Chain: \", rag_chain.invoke({\"question\": \"What is LCEL?\"}))"
   ]
  },
  {
   "cell_type": "code",
   "execution_count": null,
   "id": "6c7c4dd7",
   "metadata": {},
   "outputs": [],
   "source": [
    "# Run the RAG chain\n",
    "rag_result = rag_chain.invoke(\"What is LCEL and why is it useful?\")\n",
    "print(rag_result)"
   ]
  }
 ],
 "metadata": {
  "kernelspec": {
   "display_name": "py312",
   "language": "python",
   "name": "python3"
  },
  "language_info": {
   "codemirror_mode": {
    "name": "ipython",
    "version": 3
   },
   "file_extension": ".py",
   "mimetype": "text/x-python",
   "name": "python",
   "nbconvert_exporter": "python",
   "pygments_lexer": "ipython3",
   "version": "3.12.7"
  }
 },
 "nbformat": 4,
 "nbformat_minor": 5
}
