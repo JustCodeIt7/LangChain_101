{
 "cells": [
  {
   "cell_type": "markdown",
   "id": "a22b1cc7",
   "metadata": {},
   "source": [
    "# Vector Stores"
   ]
  },
  {
   "cell_type": "markdown",
   "id": "313a7717f33e63cd",
   "metadata": {},
   "source": [
    "## Introduction"
   ]
  },
  {
   "cell_type": "code",
   "id": "initial_id",
   "metadata": {
    "collapsed": true,
    "jupyter": {
     "outputs_hidden": true
    },
    "ExecuteTime": {
     "end_time": "2024-12-06T13:56:50.235566Z",
     "start_time": "2024-12-06T13:56:50.203407Z"
    }
   },
   "source": [
    "from langchain_community.document_loaders import TextLoader\n",
    "from langchain_community.vectorstores import FAISS\n",
    "from langchain_openai import OpenAIEmbeddings\n",
    "from langchain_ollama import ChatOllama, OllamaEmbeddings\n",
    "from langchain_text_splitters import CharacterTextSplitter\n",
    "from langchain_community.document_loaders import PyPDFLoader\n",
    "from langchain_text_splitters import RecursiveCharacterTextSplitter\n",
    "\n",
    "embedding_model = OllamaEmbeddings(model='snowflake-arctic-embed:22m')\n"
   ],
   "outputs": [],
   "execution_count": 89
  },
  {
   "metadata": {},
   "cell_type": "markdown",
   "source": "## Basics of Vector Stores",
   "id": "af518d6486a937d6"
  },
  {
   "metadata": {
    "ExecuteTime": {
     "end_time": "2024-12-06T13:56:50.375360Z",
     "start_time": "2024-12-06T13:56:50.241209Z"
    }
   },
   "cell_type": "code",
   "source": [
    "from langchain_core.vectorstores import InMemoryVectorStore\n",
    "from langchain_core.documents import Document\n",
    "\n",
    "# Initialize with an embedding model\n",
    "vector_store = InMemoryVectorStore(embedding=embedding_model)\n",
    "\n",
    "# Create a document\n",
    "document_1 = Document(\n",
    "    page_content=\"I had chocalate chip pancakes and scrambled eggs for breakfast this morning.\",\n",
    "    metadata={\"source\": \"news\"},\n",
    ")\n",
    "\n",
    "document_2 = Document(\n",
    "    page_content=\"The weather forecast for tomorrow is cloudy and overcast, with a high of 62 degrees.\",\n",
    "    metadata={\"source\": \"news\"},\n",
    ")\n",
    "\n",
    "documents = [document_1, document_2]\n",
    "# Add documents\n",
    "vector_store.add_documents(documents=documents)\n",
    "# Add documents with custom IDs\n",
    "vector_store.add_documents(documents=documents, ids=[\"doc1\", \"doc2\"])\n",
    "\n",
    "# Delete documents\n",
    "vector_store.delete(ids=[\"doc1\"])\n",
    "\n",
    "# Search for similar documents\n",
    "query = \"What is the weather forecast for tomorrow?\"\n",
    "results = vector_store.similarity_search(query, k=5)\n",
    "print(results)"
   ],
   "id": "5436e96d705d7860",
   "outputs": [
    {
     "name": "stdout",
     "output_type": "stream",
     "text": [
      "[Document(id='doc2', metadata={'source': 'news'}, page_content='The weather forecast for tomorrow is cloudy and overcast, with a high of 62 degrees.'), Document(id='d1378887-3b83-4dfb-acd5-eda454b30cfc', metadata={'source': 'news'}, page_content='The weather forecast for tomorrow is cloudy and overcast, with a high of 62 degrees.'), Document(id='a3535eb6-40d0-48f2-ad59-de4bbc15c6c2', metadata={'source': 'news'}, page_content='I had chocalate chip pancakes and scrambled eggs for breakfast this morning.')]\n"
     ]
    }
   ],
   "execution_count": 90
  },
  {
   "cell_type": "markdown",
   "id": "2db3a6de9c15bec9",
   "metadata": {},
   "source": [
    "## Embedding Models and Text Loaders"
   ]
  },
  {
   "cell_type": "code",
   "id": "a7e2ec91110583d8",
   "metadata": {
    "ExecuteTime": {
     "end_time": "2024-12-06T13:56:50.706295Z",
     "start_time": "2024-12-06T13:56:50.383045Z"
    }
   },
   "source": [
    "fp = \"data/constitution.pdf\"\n",
    "\n",
    "loader = PyPDFLoader(fp)\n",
    "\n",
    "docs = loader.load()\n",
    "\n",
    "text_splitter = RecursiveCharacterTextSplitter(chunk_size=500, chunk_overlap=100)\n",
    "\n",
    "documents = text_splitter.split_documents(docs)\n",
    "print(len(documents))\n",
    "print(documents[4])"
   ],
   "outputs": [
    {
     "name": "stdout",
     "output_type": "stream",
     "text": [
      "138\n",
      "page_content='among the several States which may be included within \n",
      "this Union, according to their respective Numbers, which \n",
      "shall be determined by adding to the whole Number of \n",
      "free Persons, including those bound to Service for a Term \n",
      "of Years, and excluding Indians not taxed, three fifths of \n",
      "all other Persons.]* The actual Enumeration shall be made \n",
      "within three Years after the first Meeting of the Congress \n",
      "of the United States, and within every subsequent Term of' metadata={'source': 'data/constitution.pdf', 'page': 1}\n"
     ]
    }
   ],
   "execution_count": 91
  },
  {
   "cell_type": "markdown",
   "id": "750e775417e4b66f",
   "metadata": {},
   "source": "## Vector Store Creation Using Chroma and FAISS"
  },
  {
   "cell_type": "code",
   "id": "b99c3f44f8e33120",
   "metadata": {
    "ExecuteTime": {
     "end_time": "2024-12-06T13:56:51.591611Z",
     "start_time": "2024-12-06T13:56:50.775169Z"
    }
   },
   "source": [
    "from uuid import uuid4\n",
    "from langchain_chroma import Chroma\n",
    "# init vector store\n",
    "vector_store = Chroma(\n",
    "    collection_name=\"constitution\",\n",
    "    embedding_function=embedding_model,\n",
    "    persist_directory=\"chroma\",\n",
    ")\n",
    "uuids = [str(uuid4()) for _ in range(len(documents))]\n",
    "\n",
    "# Add documents\n",
    "vector_store.add_documents(documents=documents, ids=uuids)\n",
    "\n",
    "# Update documents\n",
    "vector_store.update_documents(\n",
    "    ids=uuids[:2], documents=[document_1, document_2]\n",
    ")\n",
    "\n"
   ],
   "outputs": [],
   "execution_count": 92
  },
  {
   "metadata": {},
   "cell_type": "markdown",
   "source": "### FAISS",
   "id": "d382214dd28a8f68"
  },
  {
   "metadata": {
    "ExecuteTime": {
     "end_time": "2024-12-06T13:56:52.221391Z",
     "start_time": "2024-12-06T13:56:51.597268Z"
    }
   },
   "cell_type": "code",
   "source": [
    "from langchain_community.vectorstores import FAISS\n",
    "\n",
    "\n",
    "################### FAISS ###################\n",
    "vector_store_faiss = FAISS.from_documents(documents, embedding_model, ids=uuids)\n",
    "\n",
    "vector_store_faiss.save_local('faiss')"
   ],
   "id": "2690702f0e519bbd",
   "outputs": [],
   "execution_count": 93
  },
  {
   "cell_type": "markdown",
   "id": "6ae8381cd0d8a42e",
   "metadata": {},
   "source": "## Similarity search"
  },
  {
   "cell_type": "code",
   "id": "f4c7622800f93f83",
   "metadata": {
    "ExecuteTime": {
     "end_time": "2024-12-06T13:56:52.240711Z",
     "start_time": "2024-12-06T13:56:52.228343Z"
    }
   },
   "source": [
    "query = \"What is the role of the President of the United States? What are the powers of the President of the United States?\"\n",
    "\n",
    "results = vector_store.similarity_search(query,  filter={\"source\": \"news\"})\n",
    "# results = vector_store.similarity_search(query, k=5)\n",
    "\n",
    "results"
   ],
   "outputs": [
    {
     "data": {
      "text/plain": [
       "[Document(metadata={'page': 0, 'source': 'news'}, page_content='I had chocalate chip pancakes and scrambled eggs for breakfast this morning.'),\n",
       " Document(metadata={'page': 0, 'source': 'news'}, page_content='I had chocalate chip pancakes and scrambled eggs for breakfast this morning.'),\n",
       " Document(metadata={'page': 1, 'source': 'news'}, page_content='The weather forecast for tomorrow is cloudy and overcast, with a high of 62 degrees.'),\n",
       " Document(metadata={'page': 1, 'source': 'news'}, page_content='The weather forecast for tomorrow is cloudy and overcast, with a high of 62 degrees.')]"
      ]
     },
     "execution_count": 94,
     "metadata": {},
     "output_type": "execute_result"
    }
   ],
   "execution_count": 94
  },
  {
   "cell_type": "markdown",
   "id": "b5fdc9a9bf3cef50",
   "metadata": {},
   "source": [
    "### Similarity search by vector"
   ]
  },
  {
   "cell_type": "code",
   "id": "55e4456040ff557c",
   "metadata": {
    "ExecuteTime": {
     "end_time": "2024-12-06T13:56:52.258473Z",
     "start_time": "2024-12-06T13:56:52.248406Z"
    }
   },
   "source": [
    "embedding_vector = embedding_model.embed_query(query)\n",
    "docs = vector_store_faiss.similarity_search_by_vector(embedding_vector, k=5)\n",
    "\n",
    "docs"
   ],
   "outputs": [
    {
     "data": {
      "text/plain": [
       "[Document(metadata={'source': 'data/constitution.pdf', 'page': 12}, page_content='to the President of the Senate;-the President of the Senate \\nshall, in the presence of the Senate and House of Represen- \\ntatives, open all the certificates and the votes shall then be \\ncounted;-The person having the greatest number of votes \\nfor President, shall be the President, if such number be a \\nmajority of the whole number of Electors appointed; and if \\nno person have such majority, then from the persons having \\nthe highest numbers not exceeding three on the list of those'),\n",
       " Document(metadata={'source': 'data/constitution.pdf', 'page': 16}, page_content='shall be elected to the office of President more than once. \\nBut this Article shall not apply to any person holding the \\noffice of President when this Article was proposed by Con- \\ngress, and shall not prevent any person who may be holding \\nthe office of President, or acting as President, during the \\nterm within which this Article becomes operative from \\nholding the office of President or acting as President during \\nthe remainder of such term. \\nSECTION 2'),\n",
       " Document(metadata={'source': 'data/constitution.pdf', 'page': 5}, page_content='and Duties of the said Office, the Same shall devolve on the \\nVice President, and the Congress may by Law provide for \\nthe Case of Removal, Death, Resignation or Inability, both \\nof the President and Vice President, declaring what Officer \\nshall then act as President, and such Officer shall act ac- \\ncordingly, until the Disability be removed, or a President \\nshall be elected.]* \\nThe President shall, at stated Times, receive for his Services,'),\n",
       " Document(metadata={'source': 'data/constitution.pdf', 'page': 17}, page_content='President is unable to discharge the powers and duties of \\nhis office, the Vice President shall immediately assume the \\npowers and duties of the office as Acting President. \\nThereafter, when the President transmits to the President \\npro tempore of the Senate and the Speaker of the House of \\nRepresentatives his written declaration that no inability ex- \\nists, he shall resume the powers and duties of his office un- \\nless the Vice President and a majority of either the principal'),\n",
       " Document(metadata={'source': 'data/constitution.pdf', 'page': 12}, page_content='office of President shall be eligible to that of Vice-President \\nof the United States. \\n*Superseded by Section 3 of the 20th Amendment.')]"
      ]
     },
     "execution_count": 95,
     "metadata": {},
     "output_type": "execute_result"
    }
   ],
   "execution_count": 95
  },
  {
   "cell_type": "markdown",
   "id": "f96e8521f0e1b293",
   "metadata": {},
   "source": [
    "## Asynchronous Vector Store"
   ]
  },
  {
   "cell_type": "code",
   "id": "5141ee895b019eb6",
   "metadata": {
    "ExecuteTime": {
     "end_time": "2024-12-06T13:56:52.282844Z",
     "start_time": "2024-12-06T13:56:52.269768Z"
    }
   },
   "source": [
    "docs = await vector_store_faiss.asimilarity_search(query)\n",
    "docs\n"
   ],
   "outputs": [
    {
     "data": {
      "text/plain": [
       "[Document(metadata={'source': 'data/constitution.pdf', 'page': 12}, page_content='to the President of the Senate;-the President of the Senate \\nshall, in the presence of the Senate and House of Represen- \\ntatives, open all the certificates and the votes shall then be \\ncounted;-The person having the greatest number of votes \\nfor President, shall be the President, if such number be a \\nmajority of the whole number of Electors appointed; and if \\nno person have such majority, then from the persons having \\nthe highest numbers not exceeding three on the list of those'),\n",
       " Document(metadata={'source': 'data/constitution.pdf', 'page': 16}, page_content='shall be elected to the office of President more than once. \\nBut this Article shall not apply to any person holding the \\noffice of President when this Article was proposed by Con- \\ngress, and shall not prevent any person who may be holding \\nthe office of President, or acting as President, during the \\nterm within which this Article becomes operative from \\nholding the office of President or acting as President during \\nthe remainder of such term. \\nSECTION 2'),\n",
       " Document(metadata={'source': 'data/constitution.pdf', 'page': 5}, page_content='and Duties of the said Office, the Same shall devolve on the \\nVice President, and the Congress may by Law provide for \\nthe Case of Removal, Death, Resignation or Inability, both \\nof the President and Vice President, declaring what Officer \\nshall then act as President, and such Officer shall act ac- \\ncordingly, until the Disability be removed, or a President \\nshall be elected.]* \\nThe President shall, at stated Times, receive for his Services,'),\n",
       " Document(metadata={'source': 'data/constitution.pdf', 'page': 17}, page_content='President is unable to discharge the powers and duties of \\nhis office, the Vice President shall immediately assume the \\npowers and duties of the office as Acting President. \\nThereafter, when the President transmits to the President \\npro tempore of the Senate and the Speaker of the House of \\nRepresentatives his written declaration that no inability ex- \\nists, he shall resume the powers and duties of his office un- \\nless the Vice President and a majority of either the principal')]"
      ]
     },
     "execution_count": 96,
     "metadata": {},
     "output_type": "execute_result"
    }
   ],
   "execution_count": 96
  },
  {
   "metadata": {},
   "cell_type": "markdown",
   "source": "# Chat with Vector Store",
   "id": "8de2165119c12741"
  },
  {
   "metadata": {
    "ExecuteTime": {
     "end_time": "2024-12-06T13:56:52.319918Z",
     "start_time": "2024-12-06T13:56:52.290793Z"
    }
   },
   "cell_type": "code",
   "source": [
    "from langchain.prompts import PromptTemplate\n",
    "\n",
    "llm = ChatOllama(model='llama3.2:1b')"
   ],
   "id": "2c8ca62c1bfec220",
   "outputs": [],
   "execution_count": 97
  },
  {
   "metadata": {
    "ExecuteTime": {
     "end_time": "2024-12-06T13:56:55.032127Z",
     "start_time": "2024-12-06T13:56:52.325743Z"
    }
   },
   "cell_type": "code",
   "source": [
    "# Perform a vector store similarity search\n",
    "context_results = vector_store_faiss.similarity_search(query, k=4)\n",
    "\n",
    "# Create a prompt template and fill it with context\n",
    "prompt_template = PromptTemplate(\n",
    "    input_variables=[\"context\", \"query\"],\n",
    "    template=\"Based on the following context:\\n{context}\\n\\n{query}\"\n",
    ")\n",
    "\n",
    "# Fill the prompt template with the search results and the query\n",
    "full_prompt = prompt_template.format(\n",
    "    context=\"\\n\".join([doc.page_content for doc in context_results]),\n",
    "    query=query\n",
    ")\n",
    "\n",
    "# Use the language model to generate a response\n",
    "response = llm.invoke(full_prompt)\n",
    "print(response.content)"
   ],
   "id": "a23243501166ab13",
   "outputs": [
    {
     "name": "stdout",
     "output_type": "stream",
     "text": [
      "Based on this context, here's an overview of the roles and powers of the President of the United States:\n",
      "\n",
      "**Roles:**\n",
      "\n",
      "1. Commander-in-Chief: The President serves as the commander-in-chief of all branches of the US military.\n",
      "2. Chief Executable Power: The President has the power to execute the laws of the United States, although some specific responsibilities are delegated to other government officials, such as the Vice President and Congress.\n",
      "3. Legislator: The President is a co-equal partner with Congress in lawmaking, with the ability to propose legislation and veto it (although Congress can override the veto).\n",
      "4. Executive Officer: In times of emergency or incapacitation, the Vice President assumes executive power.\n",
      "\n",
      "**Powers:**\n",
      "\n",
      "1. Veto Power: The President has the power to veto bills passed by Congress, although Congress can override the veto with a two-thirds majority.\n",
      "2. Signing Authority: The President has the power to sign bills into law, although they can be vetoed by Congress if necessary.\n",
      "3. Appointments: The President appoints federal judges, ambassadors, and other high-ranking officials (subject to Senate confirmation).\n",
      "4. Diplomatic Power: The President has significant diplomatic influence and is responsible for negotiating treaties and maintaining international relations.\n",
      "5. Executive Authority: The President has the power to issue executive orders, which can have significant impacts on various aspects of US life.\n",
      "\n",
      "It's worth noting that these powers are not absolute and are subject to checks and balances by Congress, the courts, and other branches of government.\n"
     ]
    }
   ],
   "execution_count": 98
  },
  {
   "metadata": {
    "ExecuteTime": {
     "end_time": "2024-12-06T13:56:55.039096Z",
     "start_time": "2024-12-06T13:56:55.037503Z"
    }
   },
   "cell_type": "code",
   "source": "",
   "id": "5116e34bebc0d860",
   "outputs": [],
   "execution_count": null
  }
 ],
 "metadata": {
  "kernelspec": {
   "display_name": "Python 3 (ipykernel)",
   "language": "python",
   "name": "python3"
  },
  "language_info": {
   "codemirror_mode": {
    "name": "ipython",
    "version": 3
   },
   "file_extension": ".py",
   "mimetype": "text/x-python",
   "name": "python",
   "nbconvert_exporter": "python",
   "pygments_lexer": "ipython3",
   "version": "3.12.7"
  }
 },
 "nbformat": 4,
 "nbformat_minor": 5
}
