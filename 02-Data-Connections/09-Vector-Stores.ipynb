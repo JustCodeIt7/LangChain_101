{
 "cells": [
  {
   "cell_type": "markdown",
   "id": "a22b1cc7",
   "metadata": {},
   "source": [
    "# Vector Stores\n",
    "Vector stores are specialized databases that:\n",
    "- Store and manage large amounts of numerical data.\n",
    "- Enable semantic search capabilities"
   ]
  },
  {
   "cell_type": "code",
   "execution_count": null,
   "id": "initial_id",
   "metadata": {
    "ExecuteTime": {
     "end_time": "2024-12-06T13:56:50.235566Z",
     "start_time": "2024-12-06T13:56:50.203407Z"
    },
    "collapsed": true,
    "jupyter": {
     "outputs_hidden": true
    }
   },
   "outputs": [],
   "source": [
    "from langchain_community.document_loaders import TextLoader\n",
    "from langchain_community.vectorstores import FAISS\n",
    "from langchain_openai import OpenAIEmbeddings\n",
    "from langchain_ollama import ChatOllama, OllamaEmbeddings\n",
    "from langchain_text_splitters import CharacterTextSplitter\n",
    "from langchain_community.document_loaders import PyPDFLoader\n",
    "from langchain_text_splitters import RecursiveCharacterTextSplitter\n",
    "\n",
    "embedding_model = OllamaEmbeddings(model='snowflake-arctic-embed:22m')"
   ]
  },
  {
   "cell_type": "markdown",
   "id": "af518d6486a937d6",
   "metadata": {
    "notebookRunGroups": {
     "groupValue": "2"
    }
   },
   "source": [
    "## Basics of Vector Store"
   ]
  },
  {
   "cell_type": "code",
   "execution_count": null,
   "id": "5436e96d705d7860",
   "metadata": {
    "ExecuteTime": {
     "end_time": "2024-12-06T13:56:50.375360Z",
     "start_time": "2024-12-06T13:56:50.241209Z"
    },
    "tags": [
     "intro"
    ]
   },
   "outputs": [],
   "source": [
    "from langchain_core.vectorstores import InMemoryVectorStore\n",
    "from langchain_core.documents import Document\n",
    "\n",
    "# Initialize with an embedding model\n",
    "vector_store = InMemoryVectorStore(embedding=embedding_model)\n",
    "\n",
    "# Create a document\n",
    "document_1 = Document(\n",
    "    page_content=\"I had chocalate chip pancakes and scrambled eggs for breakfast this morning.\",\n",
    "    metadata={\"source\": \"news\"},\n",
    ")\n",
    "\n",
    "document_2 = Document(\n",
    "    page_content=\"The weather forecast for tomorrow is cloudy and overcast, with a high of 62 degrees.\",\n",
    "    metadata={\"source\": \"news\"},\n",
    ")\n",
    "\n",
    "documents = [document_1, document_2]\n",
    "# Add documents\n",
    "vector_store.add_documents(documents=documents)\n",
    "\n",
    "# Add documents with custom IDs\n",
    "vector_store.add_documents(documents=documents, ids=[\"doc1\", \"doc2\"])\n",
    "\n",
    "# Delete documents\n",
    "vector_store.delete(ids=[\"doc1\"])\n",
    "\n",
    "# Search for similar documents\n",
    "query = \"What is the weather forecast for tomorrow?\"\n",
    "\n",
    "results = vector_store.similarity_search(query, k=5)\n",
    "results"
   ]
  },
  {
   "cell_type": "markdown",
   "id": "2db3a6de9c15bec9",
   "metadata": {},
   "source": [
    "## Embedding Models and Text Loaders"
   ]
  },
  {
   "cell_type": "code",
   "execution_count": null,
   "id": "a7e2ec91110583d8",
   "metadata": {
    "ExecuteTime": {
     "end_time": "2024-12-06T13:56:50.706295Z",
     "start_time": "2024-12-06T13:56:50.383045Z"
    }
   },
   "outputs": [],
   "source": [
    "fp = \"data/constitution.pdf\"\n",
    "\n",
    "loader = PyPDFLoader(fp)\n",
    "\n",
    "docs = loader.load()\n",
    "print(docs[4])"
   ]
  },
  {
   "cell_type": "code",
   "execution_count": null,
   "id": "8ceb79b3",
   "metadata": {},
   "outputs": [],
   "source": [
    "text_splitter = RecursiveCharacterTextSplitter(chunk_size=500, chunk_overlap=100)\n",
    "\n",
    "documents = text_splitter.split_documents(docs)\n",
    "print(len(documents))\n",
    "print(documents[4])"
   ]
  },
  {
   "cell_type": "markdown",
   "id": "750e775417e4b66f",
   "metadata": {},
   "source": [
    "## Vector Store Creation Using Chroma and FAISS"
   ]
  },
  {
   "cell_type": "code",
   "execution_count": null,
   "id": "b99c3f44f8e33120",
   "metadata": {
    "ExecuteTime": {
     "end_time": "2024-12-06T13:56:51.591611Z",
     "start_time": "2024-12-06T13:56:50.775169Z"
    }
   },
   "outputs": [],
   "source": [
    "from uuid import uuid4\n",
    "from langchain_chroma import Chroma\n",
    "# init vector store\n",
    "vector_store = Chroma(\n",
    "    collection_name=\"constitution\",\n",
    "    embedding_function=embedding_model,\n",
    "    persist_directory=\"chroma\",\n",
    ")\n",
    "\n",
    "uuids = [str(uuid4()) for _ in range(len(documents))]\n",
    "\n",
    "# Add documents\n",
    "vector_store.add_documents(documents=documents, ids=uuids)\n"
   ]
  },
  {
   "cell_type": "code",
   "execution_count": null,
   "id": "d778f7d9",
   "metadata": {},
   "outputs": [],
   "source": [
    "# Update documents\n",
    "vector_store.update_documents(\n",
    "    ids=uuids[:2], documents=[document_1, document_2]\n",
    ")"
   ]
  },
  {
   "cell_type": "markdown",
   "id": "d382214dd28a8f68",
   "metadata": {},
   "source": [
    "### FAISS"
   ]
  },
  {
   "cell_type": "code",
   "execution_count": 21,
   "id": "2690702f0e519bbd",
   "metadata": {
    "ExecuteTime": {
     "end_time": "2024-12-06T13:56:52.221391Z",
     "start_time": "2024-12-06T13:56:51.597268Z"
    }
   },
   "outputs": [],
   "source": [
    "from langchain_community.vectorstores import FAISS\n",
    "\n",
    "################### FAISS ###################\n",
    "vector_store_faiss = FAISS.from_documents(documents, embedding_model, ids=uuids)\n",
    "\n",
    "vector_store_faiss.save_local('faiss')"
   ]
  },
  {
   "cell_type": "markdown",
   "id": "6ae8381cd0d8a42e",
   "metadata": {},
   "source": [
    "## Similarity search"
   ]
  },
  {
   "cell_type": "code",
   "execution_count": 22,
   "id": "f4c7622800f93f83",
   "metadata": {
    "ExecuteTime": {
     "end_time": "2024-12-06T13:56:52.240711Z",
     "start_time": "2024-12-06T13:56:52.228343Z"
    }
   },
   "outputs": [
    {
     "data": {
      "text/plain": [
       "[Document(metadata={'page': 0, 'source': 'news'}, page_content='I had chocalate chip pancakes and scrambled eggs for breakfast this morning.'),\n",
       " Document(metadata={'page': 0, 'source': 'news'}, page_content='I had chocalate chip pancakes and scrambled eggs for breakfast this morning.'),\n",
       " Document(metadata={'page': 0, 'source': 'news'}, page_content='I had chocalate chip pancakes and scrambled eggs for breakfast this morning.'),\n",
       " Document(metadata={'page': 0, 'source': 'news'}, page_content='I had chocalate chip pancakes and scrambled eggs for breakfast this morning.')]"
      ]
     },
     "execution_count": 22,
     "metadata": {},
     "output_type": "execute_result"
    }
   ],
   "source": [
    "query = \"What is the role of the President of the United States? What are the powers of the President of the United States?\"\n",
    "\n",
    "results = vector_store.similarity_search(query, k=4,  filter={\"source\": \"news\"})\n",
    "\n",
    "results"
   ]
  },
  {
   "cell_type": "markdown",
   "id": "b5fdc9a9bf3cef50",
   "metadata": {},
   "source": [
    "### Similarity search by vector"
   ]
  },
  {
   "cell_type": "code",
   "execution_count": 23,
   "id": "55e4456040ff557c",
   "metadata": {
    "ExecuteTime": {
     "end_time": "2024-12-06T13:56:52.258473Z",
     "start_time": "2024-12-06T13:56:52.248406Z"
    }
   },
   "outputs": [
    {
     "data": {
      "text/plain": [
       "[Document(metadata={'source': 'data/constitution.pdf', 'page': 12}, page_content='to the President of the Senate;-the President of the Senate \\nshall, in the presence of the Senate and House of Represen- \\ntatives, open all the certificates and the votes shall then be \\ncounted;-The person having the greatest number of votes \\nfor President, shall be the President, if such number be a \\nmajority of the whole number of Electors appointed; and if \\nno person have such majority, then from the persons having \\nthe highest numbers not exceeding three on the list of those'),\n",
       " Document(metadata={'source': 'data/constitution.pdf', 'page': 16}, page_content='shall be elected to the office of President more than once. \\nBut this Article shall not apply to any person holding the \\noffice of President when this Article was proposed by Con- \\ngress, and shall not prevent any person who may be holding \\nthe office of President, or acting as President, during the \\nterm within which this Article becomes operative from \\nholding the office of President or acting as President during \\nthe remainder of such term. \\nSECTION 2'),\n",
       " Document(metadata={'source': 'data/constitution.pdf', 'page': 5}, page_content='and Duties of the said Office, the Same shall devolve on the \\nVice President, and the Congress may by Law provide for \\nthe Case of Removal, Death, Resignation or Inability, both \\nof the President and Vice President, declaring what Officer \\nshall then act as President, and such Officer shall act ac- \\ncordingly, until the Disability be removed, or a President \\nshall be elected.]* \\nThe President shall, at stated Times, receive for his Services,'),\n",
       " Document(metadata={'source': 'data/constitution.pdf', 'page': 17}, page_content='President is unable to discharge the powers and duties of \\nhis office, the Vice President shall immediately assume the \\npowers and duties of the office as Acting President. \\nThereafter, when the President transmits to the President \\npro tempore of the Senate and the Speaker of the House of \\nRepresentatives his written declaration that no inability ex- \\nists, he shall resume the powers and duties of his office un- \\nless the Vice President and a majority of either the principal'),\n",
       " Document(metadata={'source': 'data/constitution.pdf', 'page': 12}, page_content='office of President shall be eligible to that of Vice-President \\nof the United States. \\n*Superseded by Section 3 of the 20th Amendment.')]"
      ]
     },
     "execution_count": 23,
     "metadata": {},
     "output_type": "execute_result"
    }
   ],
   "source": [
    "embedding_vector = embedding_model.embed_query(query)\n",
    "\n",
    "docs = vector_store_faiss.similarity_search_by_vector(embedding_vector, k=5)\n",
    "\n",
    "docs"
   ]
  },
  {
   "cell_type": "markdown",
   "id": "f96e8521f0e1b293",
   "metadata": {},
   "source": [
    "## Asynchronous Vector Store"
   ]
  },
  {
   "cell_type": "code",
   "execution_count": null,
   "id": "5141ee895b019eb6",
   "metadata": {
    "ExecuteTime": {
     "end_time": "2024-12-06T13:56:52.282844Z",
     "start_time": "2024-12-06T13:56:52.269768Z"
    }
   },
   "outputs": [
    {
     "data": {
      "text/plain": [
       "[Document(metadata={'source': 'data/constitution.pdf', 'page': 12}, page_content='to the President of the Senate;-the President of the Senate \\nshall, in the presence of the Senate and House of Represen- \\ntatives, open all the certificates and the votes shall then be \\ncounted;-The person having the greatest number of votes \\nfor President, shall be the President, if such number be a \\nmajority of the whole number of Electors appointed; and if \\nno person have such majority, then from the persons having \\nthe highest numbers not exceeding three on the list of those'),\n",
       " Document(metadata={'source': 'data/constitution.pdf', 'page': 16}, page_content='shall be elected to the office of President more than once. \\nBut this Article shall not apply to any person holding the \\noffice of President when this Article was proposed by Con- \\ngress, and shall not prevent any person who may be holding \\nthe office of President, or acting as President, during the \\nterm within which this Article becomes operative from \\nholding the office of President or acting as President during \\nthe remainder of such term. \\nSECTION 2'),\n",
       " Document(metadata={'source': 'data/constitution.pdf', 'page': 5}, page_content='and Duties of the said Office, the Same shall devolve on the \\nVice President, and the Congress may by Law provide for \\nthe Case of Removal, Death, Resignation or Inability, both \\nof the President and Vice President, declaring what Officer \\nshall then act as President, and such Officer shall act ac- \\ncordingly, until the Disability be removed, or a President \\nshall be elected.]* \\nThe President shall, at stated Times, receive for his Services,'),\n",
       " Document(metadata={'source': 'data/constitution.pdf', 'page': 17}, page_content='President is unable to discharge the powers and duties of \\nhis office, the Vice President shall immediately assume the \\npowers and duties of the office as Acting President. \\nThereafter, when the President transmits to the President \\npro tempore of the Senate and the Speaker of the House of \\nRepresentatives his written declaration that no inability ex- \\nists, he shall resume the powers and duties of his office un- \\nless the Vice President and a majority of either the principal')]"
      ]
     },
     "execution_count": 24,
     "metadata": {},
     "output_type": "execute_result"
    }
   ],
   "source": [
    "\n",
    "docs = await vector_store_faiss.asimilarity_search(query)\n",
    "\n",
    "docs"
   ]
  },
  {
   "cell_type": "markdown",
   "id": "8de2165119c12741",
   "metadata": {},
   "source": [
    "# Chat with Vector Store"
   ]
  },
  {
   "cell_type": "code",
   "execution_count": 25,
   "id": "2c8ca62c1bfec220",
   "metadata": {
    "ExecuteTime": {
     "end_time": "2024-12-06T13:56:52.319918Z",
     "start_time": "2024-12-06T13:56:52.290793Z"
    }
   },
   "outputs": [],
   "source": [
    "from langchain.prompts import PromptTemplate\n",
    "\n",
    "llm = ChatOllama(model='llama3.2:1b')"
   ]
  },
  {
   "cell_type": "code",
   "execution_count": 26,
   "id": "a23243501166ab13",
   "metadata": {
    "ExecuteTime": {
     "end_time": "2024-12-06T13:56:55.032127Z",
     "start_time": "2024-12-06T13:56:52.325743Z"
    }
   },
   "outputs": [
    {
     "name": "stdout",
     "output_type": "stream",
     "text": [
      "input_variables=['context', 'query'] input_types={} partial_variables={} template='Based on the following context:\\n{context}\\n\\n{query}'\n"
     ]
    }
   ],
   "source": [
    "# Perform a vector store similarity search\n",
    "context_results = vector_store_faiss.similarity_search(query, k=4)\n",
    "\n",
    "# Create a prompt template and fill it with context\n",
    "prompt_template = PromptTemplate(\n",
    "    input_variables=[\"context\", \"query\"],\n",
    "    template=\"Based on the following context:\\n{context}\\n\\n{query}\"\n",
    ")\n",
    "print(prompt_template)"
   ]
  },
  {
   "cell_type": "code",
   "execution_count": 27,
   "id": "5116e34bebc0d860",
   "metadata": {
    "ExecuteTime": {
     "end_time": "2024-12-06T13:56:55.039096Z",
     "start_time": "2024-12-06T13:56:55.037503Z"
    }
   },
   "outputs": [
    {
     "name": "stdout",
     "output_type": "stream",
     "text": [
      "Based on the following context:\n",
      "to the President of the Senate;-the President of the Senate \n",
      "shall, in the presence of the Senate and House of Represen- \n",
      "tatives, open all the certificates and the votes shall then be \n",
      "counted;-The person having the greatest number of votes \n",
      "for President, shall be the President, if such number be a \n",
      "majority of the whole number of Electors appointed; and if \n",
      "no person have such majority, then from the persons having \n",
      "the highest numbers not exceeding three on the list of those\n",
      "shall be elected to the office of President more than once. \n",
      "But this Article shall not apply to any person holding the \n",
      "office of President when this Article was proposed by Con- \n",
      "gress, and shall not prevent any person who may be holding \n",
      "the office of President, or acting as President, during the \n",
      "term within which this Article becomes operative from \n",
      "holding the office of President or acting as President during \n",
      "the remainder of such term. \n",
      "SECTION 2\n",
      "and Duties of the said Office, the Same shall devolve on the \n",
      "Vice President, and the Congress may by Law provide for \n",
      "the Case of Removal, Death, Resignation or Inability, both \n",
      "of the President and Vice President, declaring what Officer \n",
      "shall then act as President, and such Officer shall act ac- \n",
      "cordingly, until the Disability be removed, or a President \n",
      "shall be elected.]* \n",
      "The President shall, at stated Times, receive for his Services,\n",
      "President is unable to discharge the powers and duties of \n",
      "his office, the Vice President shall immediately assume the \n",
      "powers and duties of the office as Acting President. \n",
      "Thereafter, when the President transmits to the President \n",
      "pro tempore of the Senate and the Speaker of the House of \n",
      "Representatives his written declaration that no inability ex- \n",
      "ists, he shall resume the powers and duties of his office un- \n",
      "less the Vice President and a majority of either the principal\n",
      "\n",
      "What is the role of the President of the United States? What are the powers of the President of the United States?\n"
     ]
    }
   ],
   "source": [
    "# Fill the prompt template with the search results and the query\n",
    "full_prompt = prompt_template.format(\n",
    "    context=\"\\n\".join([doc.page_content for doc in context_results]),\n",
    "    query=query\n",
    ")\n",
    "print(full_prompt)"
   ]
  },
  {
   "cell_type": "code",
   "execution_count": 30,
   "id": "05b33fb7",
   "metadata": {},
   "outputs": [
    {
     "name": "stdout",
     "output_type": "stream",
     "text": [
      "Based on the provided text, the role of the President of the United States is as follows:\n",
      "\n",
      "1. **President of the Senate**: The President shall open all certificates and votes in the presence of both the Senate and House of Representatives.\n",
      "2. **Duties:** The duties devolve on the Vice President, which includes assuming the powers and duties of the office if the President is unable to perform them.\n",
      "\n",
      "As for the powers of the President, they include:\n",
      "\n",
      "1. **Dischargeing the Powers and Duties**: If the President is unable to discharge their powers and duties, the Vice President will assume those responsibilities.\n",
      "2. **Transmitting to the Senate and House a Written Declaration**: The President must transmit a written declaration to Congress stating that there are no unable presidents or vice-presidents, which would trigger the assumption of presidential powers by the Vice President.\n",
      "3. **Returning Powers Unless Ability Existed**: If the President transmits this declaration to Congress, they will resume their duties until they can be removed due to disability or election.\n",
      "\n",
      "The text does not explicitly state what specific powers the President has beyond these duties and responsibilities, but it's clear that they have significant executive authority.\n"
     ]
    }
   ],
   "source": [
    "# Use the language model to generate a response\n",
    "response = llm.invoke(full_prompt)\n",
    "print(response.content)"
   ]
  },
  {
   "cell_type": "code",
   "execution_count": null,
   "id": "569def30",
   "metadata": {},
   "outputs": [],
   "source": []
  }
 ],
 "metadata": {
  "kernelspec": {
   "display_name": "yt312",
   "language": "python",
   "name": "python3"
  },
  "language_info": {
   "codemirror_mode": {
    "name": "ipython",
    "version": 3
   },
   "file_extension": ".py",
   "mimetype": "text/x-python",
   "name": "python",
   "nbconvert_exporter": "python",
   "pygments_lexer": "ipython3",
   "version": "3.12.7"
  }
 },
 "nbformat": 4,
 "nbformat_minor": 5
}
