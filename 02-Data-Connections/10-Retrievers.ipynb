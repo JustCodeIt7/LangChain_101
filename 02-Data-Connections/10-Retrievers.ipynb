{
 "cells": [
  {
   "cell_type": "markdown",
   "id": "5a337645",
   "metadata": {},
   "source": [
    "# Retrievers"
   ]
  },
  {
   "cell_type": "code",
   "execution_count": 7,
   "id": "initial_id",
   "metadata": {
    "collapsed": true
   },
   "outputs": [],
   "source": [
    "from langchain.retrievers import ParentDocumentRetriever\n",
    "from langchain.storage import InMemoryStore\n",
    "from langchain_chroma import Chroma\n",
    "from langchain_community.document_loaders import TextLoader\n",
    "from langchain_openai import OpenAIEmbeddings\n",
    "from langchain_text_splitters import RecursiveCharacterTextSplitter\n",
    "from langchain_ollama import OllamaEmbeddings"
   ]
  },
  {
   "cell_type": "code",
   "execution_count": 4,
   "id": "2a573d40",
   "metadata": {},
   "outputs": [],
   "source": [
    "loaders = [\n",
    "    TextLoader(\"data/sample.html\"),\n",
    "    TextLoader(\"data/sample.md\"),\n",
    "]\n",
    "docs = []\n",
    "for loader in loaders:\n",
    "    docs.extend(loader.load())"
   ]
  },
  {
   "cell_type": "code",
   "execution_count": 8,
   "id": "5258c25d",
   "metadata": {},
   "outputs": [],
   "source": [
    "# This text splitter is used to create the child documents\n",
    "child_splitter = RecursiveCharacterTextSplitter(chunk_size=400)\n",
    "# The vectorstore to use to index the child chunks\n",
    "vectorstore = Chroma(\n",
    "    collection_name=\"full_documents\", embedding_function=OllamaEmbeddings(model=\"snowflake-arctic-embed:33m\")\n",
    ")\n",
    "# The storage layer for the parent documents\n",
    "store = InMemoryStore()\n",
    "retriever = ParentDocumentRetriever(\n",
    "    vectorstore=vectorstore,\n",
    "    docstore=store,\n",
    "    child_splitter=child_splitter,\n",
    ")"
   ]
  },
  {
   "cell_type": "code",
   "execution_count": 9,
   "id": "cfcea20a",
   "metadata": {},
   "outputs": [],
   "source": [
    "retriever.add_documents(docs, ids=None)"
   ]
  },
  {
   "cell_type": "code",
   "execution_count": 10,
   "id": "1d6485d6",
   "metadata": {},
   "outputs": [
    {
     "data": {
      "text/plain": [
       "['752f8db9-de94-4a25-b593-88a9af801b6a',\n",
       " '3d7854bf-2545-441c-9426-934c1b225352']"
      ]
     },
     "execution_count": 10,
     "metadata": {},
     "output_type": "execute_result"
    }
   ],
   "source": [
    "list(store.yield_keys())\n"
   ]
  },
  {
   "cell_type": "code",
   "execution_count": 11,
   "id": "c28bc633",
   "metadata": {},
   "outputs": [],
   "source": [
    "sub_docs = vectorstore.similarity_search(\"justice breyer\")\n"
   ]
  },
  {
   "cell_type": "code",
   "execution_count": 12,
   "id": "3b79fb4c",
   "metadata": {},
   "outputs": [
    {
     "name": "stdout",
     "output_type": "stream",
     "text": [
      "#main-header ul {\n",
      "            list-style: none;\n",
      "            padding: 0;\n",
      "        }\n",
      "\n",
      "        #main-header li {\n",
      "            display: inline;\n",
      "            margin: 0 10px;\n",
      "        }\n"
     ]
    }
   ],
   "source": [
    "print(sub_docs[0].page_content)\n",
    "\n"
   ]
  },
  {
   "cell_type": "code",
   "execution_count": 14,
   "id": "f4cf9613",
   "metadata": {},
   "outputs": [
    {
     "data": {
      "text/plain": [
       "4662"
      ]
     },
     "execution_count": 14,
     "metadata": {},
     "output_type": "execute_result"
    }
   ],
   "source": [
    "retrieved_docs = retriever.invoke(\"justice breyer\")\n",
    "len(retrieved_docs[0].page_content)\n",
    "\n"
   ]
  },
  {
   "cell_type": "markdown",
   "id": "7d2d9e1e",
   "metadata": {},
   "source": [
    "## Retrieving larger chunks"
   ]
  },
  {
   "cell_type": "code",
   "execution_count": 16,
   "id": "77fc9133",
   "metadata": {},
   "outputs": [],
   "source": [
    "# This text splitter is used to create the parent documents\n",
    "parent_splitter = RecursiveCharacterTextSplitter(chunk_size=2000)\n",
    "# This text splitter is used to create the child documents\n",
    "# It should create documents smaller than the parent\n",
    "child_splitter = RecursiveCharacterTextSplitter(chunk_size=400)\n",
    "# The vectorstore to use to index the child chunks\n",
    "vectorstore = Chroma(\n",
    "    collection_name=\"split_parents\", embedding_function=OllamaEmbeddings(model=\"snowflake-arctic-embed:33m\")\n",
    ")\n",
    "# The storage layer for the parent documents\n",
    "store = InMemoryStore()"
   ]
  },
  {
   "cell_type": "code",
   "execution_count": 17,
   "id": "bd74a96e",
   "metadata": {},
   "outputs": [],
   "source": [
    "retriever = ParentDocumentRetriever(\n",
    "    vectorstore=vectorstore,\n",
    "    docstore=store,\n",
    "    child_splitter=child_splitter,\n",
    "    parent_splitter=parent_splitter,\n",
    ")"
   ]
  },
  {
   "cell_type": "code",
   "execution_count": 19,
   "id": "2a3dff64",
   "metadata": {},
   "outputs": [
    {
     "data": {
      "text/plain": [
       "8"
      ]
     },
     "execution_count": 19,
     "metadata": {},
     "output_type": "execute_result"
    }
   ],
   "source": [
    "retriever.add_documents(docs)\n",
    "len(list(store.yield_keys()))\n",
    "\n",
    "\n"
   ]
  },
  {
   "cell_type": "code",
   "execution_count": 20,
   "id": "b4528c8f",
   "metadata": {},
   "outputs": [
    {
     "name": "stdout",
     "output_type": "stream",
     "text": [
      "#main-header ul {\n",
      "            list-style: none;\n",
      "            padding: 0;\n",
      "        }\n",
      "\n",
      "        #main-header li {\n",
      "            display: inline;\n",
      "            margin: 0 10px;\n",
      "        }\n"
     ]
    }
   ],
   "source": [
    "sub_docs = vectorstore.similarity_search(\"justice breyer\")\n",
    "\n",
    "print(sub_docs[0].page_content)\n",
    "\n"
   ]
  },
  {
   "cell_type": "code",
   "execution_count": 22,
   "id": "adfa2cfa",
   "metadata": {},
   "outputs": [
    {
     "name": "stdout",
     "output_type": "stream",
     "text": [
      "<!DOCTYPE html>\n",
      "<html lang=\"en\">\n",
      "<head>\n",
      "    <meta charset=\"UTF-8\">\n",
      "    <meta name=\"viewport\" content=\"width=device-width, initial-scale=1.0\">\n",
      "    <title>HTML Element Selection Example</title>\n",
      "    <style>\n",
      "        /* General Styles */\n",
      "        body {\n",
      "            font-family: Arial, sans-serif;\n",
      "            margin: 20px;\n",
      "            line-height: 1.6;\n",
      "            color: #333;\n",
      "            background-color: #f9f9f9;\n",
      "        }\n",
      "\n",
      "        h1, h2 {\n",
      "            color: #2c3e50;\n",
      "        }\n",
      "\n",
      "        p {\n",
      "            margin: 10px 0;\n",
      "        }\n",
      "\n",
      "        a {\n",
      "            color: #3498db;\n",
      "            text-decoration: none;\n",
      "        }\n",
      "\n",
      "        a:hover {\n",
      "            text-decoration: underline;\n",
      "        }\n",
      "\n",
      "        /* Header */\n",
      "        #main-header {\n",
      "            background-color: #b7c2ce;\n",
      "            color: white;\n",
      "            padding: 20px;\n",
      "            text-align: center;\n",
      "            border-radius: 5px;\n",
      "        }\n",
      "\n",
      "        #main-header ul {\n",
      "            list-style: none;\n",
      "            padding: 0;\n",
      "        }\n",
      "\n",
      "        #main-header li {\n",
      "            display: inline;\n",
      "            margin: 0 10px;\n",
      "        }\n",
      "\n",
      "        /* Sections */\n",
      "        section {\n",
      "            background: white;\n",
      "            margin: 20px 0;\n",
      "            padding: 20px;\n",
      "            border-radius: 5px;\n",
      "            box-shadow: 0 2px 4px rgba(0, 0, 0, 0.1);\n",
      "        }\n",
      "\n",
      "        section h2 {\n",
      "            margin-top: 0;\n",
      "        }\n",
      "\n",
      "        .highlight {\n",
      "            background-color: yellow;\n",
      "            font-weight: bold;\n",
      "        }\n",
      "\n",
      "        /* Buttons */\n",
      "        .action-button {\n",
      "            background-color: #2ecc71;\n",
      "            color: white;\n",
      "            border: none;\n",
      "            padding: 10px 15px;\n",
      "            border-radius: 5px;\n",
      "            cursor: pointer;\n",
      "            transition: background-color 0.3s;\n",
      "        }\n",
      "\n",
      "        .action-button:hover {\n",
      "            background-color: #27ae60;\n",
      "        }\n",
      "\n",
      "        /* Lists */\n",
      "        #item-list {\n",
      "            padding: 0;\n",
      "            list-style: none;\n",
      "        }\n"
     ]
    }
   ],
   "source": [
    "retrieved_docs = retriever.invoke(\"justice breyer\")\n",
    "\n",
    "len(retrieved_docs[0].page_content)\n",
    "print(retrieved_docs[0].page_content)\n",
    "\n",
    "\n"
   ]
  },
  {
   "cell_type": "code",
   "execution_count": null,
   "id": "bbb6704c",
   "metadata": {},
   "outputs": [],
   "source": []
  }
 ],
 "metadata": {
  "kernelspec": {
   "display_name": "yt312",
   "language": "python",
   "name": "python3"
  },
  "language_info": {
   "codemirror_mode": {
    "name": "ipython",
    "version": 3
   },
   "file_extension": ".py",
   "mimetype": "text/x-python",
   "name": "python",
   "nbconvert_exporter": "python",
   "pygments_lexer": "ipython3",
   "version": "3.12.7"
  }
 },
 "nbformat": 4,
 "nbformat_minor": 5
}
